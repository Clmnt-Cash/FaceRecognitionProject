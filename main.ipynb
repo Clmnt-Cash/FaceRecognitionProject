{
 "cells": [
  {
   "cell_type": "code",
   "execution_count": 1,
   "id": "0d7176a0",
   "metadata": {},
   "outputs": [
    {
     "name": "stdout",
     "output_type": "stream",
     "text": [
      "2.7.1+cu128\n",
      "True\n"
     ]
    }
   ],
   "source": [
    "import torch\n",
    "print(torch.__version__)\n",
    "print(torch.cuda.is_available())"
   ]
  },
  {
   "cell_type": "code",
   "execution_count": 2,
   "id": "cd6fbc47",
   "metadata": {},
   "outputs": [
    {
     "name": "stdout",
     "output_type": "stream",
     "text": [
      "1\n",
      "NVIDIA GeForce RTX 4070\n"
     ]
    }
   ],
   "source": [
    "print(torch.cuda.device_count())\n",
    "print(torch.cuda.get_device_name(0))"
   ]
  },
  {
   "cell_type": "markdown",
   "id": "56451426",
   "metadata": {},
   "source": [
    "**Dependences**"
   ]
  },
  {
   "cell_type": "code",
   "execution_count": 3,
   "id": "85d6e381",
   "metadata": {},
   "outputs": [],
   "source": [
    "import cv2\n",
    "import os\n",
    "import shutil\n",
    "import random \n",
    "from matplotlib import pyplot as plt \n",
    "import numpy as np\n",
    "from PIL import Image"
   ]
  },
  {
   "cell_type": "code",
   "execution_count": 4,
   "id": "bf516704",
   "metadata": {},
   "outputs": [],
   "source": [
    "import torch.nn as nn\n",
    "import torch.nn.functional as F\n",
    "import torch.optim as optim"
   ]
  },
  {
   "cell_type": "markdown",
   "id": "06e517ce",
   "metadata": {},
   "source": [
    "**Create folder structure**"
   ]
  },
  {
   "cell_type": "code",
   "execution_count": 5,
   "id": "320761a5",
   "metadata": {},
   "outputs": [],
   "source": [
    "# Chemins vers les dossiers\n",
    "POS_PATH = os.path.join('data', 'positive')\n",
    "NEG_PATH = os.path.join('data', 'negative')\n",
    "ANC_PATH = os.path.join('data', 'anchor')\n",
    "\n",
    "# Création des dossiers s’ils n'existent pas déjà\n",
    "os.makedirs(POS_PATH, exist_ok=True)\n",
    "os.makedirs(NEG_PATH, exist_ok=True)\n",
    "os.makedirs(ANC_PATH, exist_ok=True)"
   ]
  },
  {
   "cell_type": "markdown",
   "id": "817a6847",
   "metadata": {},
   "source": [
    "**Labelled Faces**"
   ]
  },
  {
   "cell_type": "code",
   "execution_count": null,
   "id": "a0f07b0c",
   "metadata": {},
   "outputs": [],
   "source": [
    "# from sklearn.datasets import fetch_lfw_people"
   ]
  },
  {
   "cell_type": "code",
   "execution_count": null,
   "id": "43f5423d",
   "metadata": {},
   "outputs": [],
   "source": [
    "# lfw_people = fetch_lfw_people(min_faces_per_person=1, resize=1.0, color=True)"
   ]
  },
  {
   "cell_type": "code",
   "execution_count": null,
   "id": "d893a04d",
   "metadata": {},
   "outputs": [],
   "source": [
    "# for i, image in enumerate(lfw_people.images):\n",
    "#     # Convertir l'image en format PIL\n",
    "#     img = Image.fromarray((image * 255).astype(np.uint8))\n",
    "#     # Enregistrer l'image dans le dossier positif\n",
    "#     img.save(os.path.join(NEG_PATH, f'person_{i}.jpg'))"
   ]
  },
  {
   "cell_type": "markdown",
   "id": "ba956390",
   "metadata": {},
   "source": [
    "**Positive and Anchor dataset**"
   ]
  },
  {
   "cell_type": "code",
   "execution_count": 9,
   "id": "e67fa4a6",
   "metadata": {},
   "outputs": [],
   "source": [
    "import uuid"
   ]
  },
  {
   "cell_type": "code",
   "execution_count": null,
   "id": "8223f5bd",
   "metadata": {},
   "outputs": [
    {
     "name": "stdout",
     "output_type": "stream",
     "text": [
      "Appuie sur 'a' pour une image anchor, 'p' pour positive, 'q' pour quitter.\n",
      "[POSITIVE] Image enregistrée : data\\positive\\066be7b7-75cf-11f0-9094-e636fc4fc5e9.jpg\n",
      "[POSITIVE] Image enregistrée : data\\positive\\0695639b-75cf-11f0-bda2-e636fc4fc5e9.jpg\n",
      "[POSITIVE] Image enregistrée : data\\positive\\06c3d41e-75cf-11f0-af47-e636fc4fc5e9.jpg\n",
      "[POSITIVE] Image enregistrée : data\\positive\\06ef0973-75cf-11f0-a00a-e636fc4fc5e9.jpg\n",
      "[POSITIVE] Image enregistrée : data\\positive\\07257a2d-75cf-11f0-b299-e636fc4fc5e9.jpg\n",
      "[POSITIVE] Image enregistrée : data\\positive\\074f0cb0-75cf-11f0-a14c-e636fc4fc5e9.jpg\n",
      "[POSITIVE] Image enregistrée : data\\positive\\0771619b-75cf-11f0-8687-e636fc4fc5e9.jpg\n",
      "[POSITIVE] Image enregistrée : data\\positive\\079a982b-75cf-11f0-b6a3-e636fc4fc5e9.jpg\n",
      "[POSITIVE] Image enregistrée : data\\positive\\07bcbcee-75cf-11f0-8ca7-e636fc4fc5e9.jpg\n",
      "[POSITIVE] Image enregistrée : data\\positive\\07e66de9-75cf-11f0-bcbc-e636fc4fc5e9.jpg\n",
      "[POSITIVE] Image enregistrée : data\\positive\\080de039-75cf-11f0-bdd2-e636fc4fc5e9.jpg\n",
      "[POSITIVE] Image enregistrée : data\\positive\\0836e8f2-75cf-11f0-8238-e636fc4fc5e9.jpg\n",
      "[POSITIVE] Image enregistrée : data\\positive\\0858d2db-75cf-11f0-8521-e636fc4fc5e9.jpg\n",
      "[POSITIVE] Image enregistrée : data\\positive\\087a1f01-75cf-11f0-81b9-e636fc4fc5e9.jpg\n",
      "[POSITIVE] Image enregistrée : data\\positive\\08a26318-75cf-11f0-851f-e636fc4fc5e9.jpg\n",
      "[POSITIVE] Image enregistrée : data\\positive\\08c70ed6-75cf-11f0-acf5-e636fc4fc5e9.jpg\n",
      "[POSITIVE] Image enregistrée : data\\positive\\08ee2f00-75cf-11f0-8011-e636fc4fc5e9.jpg\n",
      "[POSITIVE] Image enregistrée : data\\positive\\09193d63-75cf-11f0-945c-e636fc4fc5e9.jpg\n",
      "[POSITIVE] Image enregistrée : data\\positive\\0945eef3-75cf-11f0-8b68-e636fc4fc5e9.jpg\n",
      "[POSITIVE] Image enregistrée : data\\positive\\09742abe-75cf-11f0-8d2a-e636fc4fc5e9.jpg\n",
      "[POSITIVE] Image enregistrée : data\\positive\\099dbf51-75cf-11f0-a889-e636fc4fc5e9.jpg\n",
      "[POSITIVE] Image enregistrée : data\\positive\\09cff667-75cf-11f0-86dc-e636fc4fc5e9.jpg\n",
      "[POSITIVE] Image enregistrée : data\\positive\\09fcf743-75cf-11f0-89e1-e636fc4fc5e9.jpg\n",
      "[POSITIVE] Image enregistrée : data\\positive\\0a21ac7a-75cf-11f0-9a67-e636fc4fc5e9.jpg\n",
      "[POSITIVE] Image enregistrée : data\\positive\\0a4fefdb-75cf-11f0-a446-e636fc4fc5e9.jpg\n",
      "[POSITIVE] Image enregistrée : data\\positive\\0a772c46-75cf-11f0-a573-e636fc4fc5e9.jpg\n",
      "[POSITIVE] Image enregistrée : data\\positive\\0aa0a842-75cf-11f0-bd63-e636fc4fc5e9.jpg\n",
      "[POSITIVE] Image enregistrée : data\\positive\\0acbb366-75cf-11f0-b42b-e636fc4fc5e9.jpg\n",
      "[POSITIVE] Image enregistrée : data\\positive\\0af26164-75cf-11f0-934e-e636fc4fc5e9.jpg\n",
      "[POSITIVE] Image enregistrée : data\\positive\\0b1abf6a-75cf-11f0-99a2-e636fc4fc5e9.jpg\n",
      "[POSITIVE] Image enregistrée : data\\positive\\0b41c396-75cf-11f0-b7e8-e636fc4fc5e9.jpg\n",
      "[POSITIVE] Image enregistrée : data\\positive\\0b6b3dc8-75cf-11f0-867c-e636fc4fc5e9.jpg\n",
      "[POSITIVE] Image enregistrée : data\\positive\\0b94a6b0-75cf-11f0-b25a-e636fc4fc5e9.jpg\n",
      "[POSITIVE] Image enregistrée : data\\positive\\0bbe369b-75cf-11f0-94c3-e636fc4fc5e9.jpg\n",
      "[POSITIVE] Image enregistrée : data\\positive\\0becf2be-75cf-11f0-92ec-e636fc4fc5e9.jpg\n",
      "[POSITIVE] Image enregistrée : data\\positive\\0c15ab88-75cf-11f0-a7db-e636fc4fc5e9.jpg\n",
      "[POSITIVE] Image enregistrée : data\\positive\\0c420df4-75cf-11f0-8e1c-e636fc4fc5e9.jpg\n",
      "[POSITIVE] Image enregistrée : data\\positive\\0c674ef2-75cf-11f0-94ad-e636fc4fc5e9.jpg\n",
      "[POSITIVE] Image enregistrée : data\\positive\\0c90381e-75cf-11f0-af17-e636fc4fc5e9.jpg\n",
      "[POSITIVE] Image enregistrée : data\\positive\\0cb73b7a-75cf-11f0-b63e-e636fc4fc5e9.jpg\n",
      "[POSITIVE] Image enregistrée : data\\positive\\0ce0c6d4-75cf-11f0-8afd-e636fc4fc5e9.jpg\n",
      "[POSITIVE] Image enregistrée : data\\positive\\0d0a49db-75cf-11f0-b808-e636fc4fc5e9.jpg\n",
      "[POSITIVE] Image enregistrée : data\\positive\\0d475f13-75cf-11f0-b271-e636fc4fc5e9.jpg\n",
      "[POSITIVE] Image enregistrée : data\\positive\\0d64a688-75cf-11f0-8177-e636fc4fc5e9.jpg\n",
      "[POSITIVE] Image enregistrée : data\\positive\\0d895991-75cf-11f0-965b-e636fc4fc5e9.jpg\n",
      "[POSITIVE] Image enregistrée : data\\positive\\0dac4f29-75cf-11f0-8eae-e636fc4fc5e9.jpg\n",
      "[POSITIVE] Image enregistrée : data\\positive\\0dd013e6-75cf-11f0-8bfc-e636fc4fc5e9.jpg\n",
      "[POSITIVE] Image enregistrée : data\\positive\\0df98397-75cf-11f0-85a8-e636fc4fc5e9.jpg\n",
      "[POSITIVE] Image enregistrée : data\\positive\\0e20bf9d-75cf-11f0-8c12-e636fc4fc5e9.jpg\n",
      "[POSITIVE] Image enregistrée : data\\positive\\0e4a12eb-75cf-11f0-afca-e636fc4fc5e9.jpg\n",
      "[POSITIVE] Image enregistrée : data\\positive\\0e67217e-75cf-11f0-aa8a-e636fc4fc5e9.jpg\n",
      "[POSITIVE] Image enregistrée : data\\positive\\0e8db9ce-75cf-11f0-9e79-e636fc4fc5e9.jpg\n",
      "[POSITIVE] Image enregistrée : data\\positive\\0ebb07aa-75cf-11f0-a529-e636fc4fc5e9.jpg\n",
      "[POSITIVE] Image enregistrée : data\\positive\\0edc711f-75cf-11f0-82bd-e636fc4fc5e9.jpg\n",
      "[POSITIVE] Image enregistrée : data\\positive\\0f05bf34-75cf-11f0-9a02-e636fc4fc5e9.jpg\n",
      "[POSITIVE] Image enregistrée : data\\positive\\0f2accdc-75cf-11f0-a90f-e636fc4fc5e9.jpg\n",
      "[POSITIVE] Image enregistrée : data\\positive\\0f555e09-75cf-11f0-bb1c-e636fc4fc5e9.jpg\n",
      "[POSITIVE] Image enregistrée : data\\positive\\0f7b9be3-75cf-11f0-9daf-e636fc4fc5e9.jpg\n",
      "[POSITIVE] Image enregistrée : data\\positive\\0fa4c43b-75cf-11f0-a70a-e636fc4fc5e9.jpg\n",
      "[POSITIVE] Image enregistrée : data\\positive\\0fce3c55-75cf-11f0-9600-e636fc4fc5e9.jpg\n",
      "[POSITIVE] Image enregistrée : data\\positive\\0ff2dc70-75cf-11f0-b30a-e636fc4fc5e9.jpg\n",
      "[POSITIVE] Image enregistrée : data\\positive\\147a24f1-75cf-11f0-b167-e636fc4fc5e9.jpg\n",
      "[POSITIVE] Image enregistrée : data\\positive\\14a408d3-75cf-11f0-85a6-e636fc4fc5e9.jpg\n",
      "[POSITIVE] Image enregistrée : data\\positive\\14cd8d80-75cf-11f0-af53-e636fc4fc5e9.jpg\n",
      "[POSITIVE] Image enregistrée : data\\positive\\14f717dd-75cf-11f0-b6b8-e636fc4fc5e9.jpg\n",
      "[POSITIVE] Image enregistrée : data\\positive\\152a5a0b-75cf-11f0-81f1-e636fc4fc5e9.jpg\n",
      "[POSITIVE] Image enregistrée : data\\positive\\154ce223-75cf-11f0-ad50-e636fc4fc5e9.jpg\n",
      "[POSITIVE] Image enregistrée : data\\positive\\157637e4-75cf-11f0-8624-e636fc4fc5e9.jpg\n",
      "[POSITIVE] Image enregistrée : data\\positive\\159abf18-75cf-11f0-b6b4-e636fc4fc5e9.jpg\n",
      "[POSITIVE] Image enregistrée : data\\positive\\15bcd0d7-75cf-11f0-a75e-e636fc4fc5e9.jpg\n",
      "[POSITIVE] Image enregistrée : data\\positive\\15dceca6-75cf-11f0-af06-e636fc4fc5e9.jpg\n",
      "[POSITIVE] Image enregistrée : data\\positive\\1602ab9d-75cf-11f0-9669-e636fc4fc5e9.jpg\n",
      "[POSITIVE] Image enregistrée : data\\positive\\16285ded-75cf-11f0-bf73-e636fc4fc5e9.jpg\n",
      "[POSITIVE] Image enregistrée : data\\positive\\1651df98-75cf-11f0-bc03-e636fc4fc5e9.jpg\n",
      "[POSITIVE] Image enregistrée : data\\positive\\1679173e-75cf-11f0-b5a3-e636fc4fc5e9.jpg\n",
      "[POSITIVE] Image enregistrée : data\\positive\\16a25536-75cf-11f0-aeac-e636fc4fc5e9.jpg\n",
      "[POSITIVE] Image enregistrée : data\\positive\\16c6f0c3-75cf-11f0-8cf8-e636fc4fc5e9.jpg\n",
      "[POSITIVE] Image enregistrée : data\\positive\\16eb6de1-75cf-11f0-aece-e636fc4fc5e9.jpg\n",
      "[POSITIVE] Image enregistrée : data\\positive\\17178c53-75cf-11f0-b8bb-e636fc4fc5e9.jpg\n",
      "[POSITIVE] Image enregistrée : data\\positive\\173e98a8-75cf-11f0-a5b1-e636fc4fc5e9.jpg\n",
      "[POSITIVE] Image enregistrée : data\\positive\\17653524-75cf-11f0-9a61-e636fc4fc5e9.jpg\n",
      "[POSITIVE] Image enregistrée : data\\positive\\178cbb46-75cf-11f0-9fe0-e636fc4fc5e9.jpg\n",
      "[POSITIVE] Image enregistrée : data\\positive\\17b63ef6-75cf-11f0-9c2a-e636fc4fc5e9.jpg\n",
      "[POSITIVE] Image enregistrée : data\\positive\\17dfe1af-75cf-11f0-aff6-e636fc4fc5e9.jpg\n",
      "[POSITIVE] Image enregistrée : data\\positive\\18024f16-75cf-11f0-b254-e636fc4fc5e9.jpg\n",
      "[POSITIVE] Image enregistrée : data\\positive\\1823f777-75cf-11f0-97ec-e636fc4fc5e9.jpg\n",
      "[POSITIVE] Image enregistrée : data\\positive\\18475e83-75cf-11f0-8e65-e636fc4fc5e9.jpg\n",
      "[POSITIVE] Image enregistrée : data\\positive\\18729a39-75cf-11f0-81a6-e636fc4fc5e9.jpg\n",
      "[POSITIVE] Image enregistrée : data\\positive\\1896db0a-75cf-11f0-8fff-e636fc4fc5e9.jpg\n",
      "[POSITIVE] Image enregistrée : data\\positive\\18be0b90-75cf-11f0-8359-e636fc4fc5e9.jpg\n",
      "[POSITIVE] Image enregistrée : data\\positive\\18e51e54-75cf-11f0-8342-e636fc4fc5e9.jpg\n",
      "[POSITIVE] Image enregistrée : data\\positive\\1909ba19-75cf-11f0-83a9-e636fc4fc5e9.jpg\n",
      "[POSITIVE] Image enregistrée : data\\positive\\1935ad80-75cf-11f0-b6fc-e636fc4fc5e9.jpg\n",
      "[POSITIVE] Image enregistrée : data\\positive\\195cb981-75cf-11f0-98ca-e636fc4fc5e9.jpg\n",
      "[POSITIVE] Image enregistrée : data\\positive\\1981441c-75cf-11f0-9875-e636fc4fc5e9.jpg\n",
      "[POSITIVE] Image enregistrée : data\\positive\\19a859e2-75cf-11f0-bed8-e636fc4fc5e9.jpg\n",
      "[POSITIVE] Image enregistrée : data\\positive\\19cdd260-75cf-11f0-a517-e636fc4fc5e9.jpg\n",
      "[POSITIVE] Image enregistrée : data\\positive\\19f66bbc-75cf-11f0-ba48-e636fc4fc5e9.jpg\n",
      "[POSITIVE] Image enregistrée : data\\positive\\1a1ffd75-75cf-11f0-902f-e636fc4fc5e9.jpg\n",
      "[POSITIVE] Image enregistrée : data\\positive\\1a472023-75cf-11f0-afc7-e636fc4fc5e9.jpg\n",
      "[POSITIVE] Image enregistrée : data\\positive\\1a7095f0-75cf-11f0-ae7c-e636fc4fc5e9.jpg\n",
      "[POSITIVE] Image enregistrée : data\\positive\\1a954542-75cf-11f0-a102-e636fc4fc5e9.jpg\n",
      "[POSITIVE] Image enregistrée : data\\positive\\1ab78443-75cf-11f0-a532-e636fc4fc5e9.jpg\n",
      "[POSITIVE] Image enregistrée : data\\positive\\1ade4993-75cf-11f0-8c8f-e636fc4fc5e9.jpg\n",
      "[POSITIVE] Image enregistrée : data\\positive\\1b0c2bd3-75cf-11f0-a2f3-e636fc4fc5e9.jpg\n",
      "[POSITIVE] Image enregistrée : data\\positive\\1b364e73-75cf-11f0-908f-e636fc4fc5e9.jpg\n",
      "[POSITIVE] Image enregistrée : data\\positive\\1b5ba1ba-75cf-11f0-9be9-e636fc4fc5e9.jpg\n",
      "[POSITIVE] Image enregistrée : data\\positive\\1b7f76b0-75cf-11f0-b855-e636fc4fc5e9.jpg\n",
      "[POSITIVE] Image enregistrée : data\\positive\\1ba1a803-75cf-11f0-979d-e636fc4fc5e9.jpg\n",
      "[POSITIVE] Image enregistrée : data\\positive\\1bbec1ff-75cf-11f0-9bf4-e636fc4fc5e9.jpg\n",
      "[POSITIVE] Image enregistrée : data\\positive\\1bdbef7e-75cf-11f0-93a3-e636fc4fc5e9.jpg\n",
      "[POSITIVE] Image enregistrée : data\\positive\\1bf9a1e8-75cf-11f0-b24a-e636fc4fc5e9.jpg\n",
      "[POSITIVE] Image enregistrée : data\\positive\\1c185dd1-75cf-11f0-a675-e636fc4fc5e9.jpg\n",
      "[POSITIVE] Image enregistrée : data\\positive\\1c3b8290-75cf-11f0-a33d-e636fc4fc5e9.jpg\n",
      "[POSITIVE] Image enregistrée : data\\positive\\1c603185-75cf-11f0-97cf-e636fc4fc5e9.jpg\n",
      "[POSITIVE] Image enregistrée : data\\positive\\1c87b15a-75cf-11f0-a631-e636fc4fc5e9.jpg\n",
      "[POSITIVE] Image enregistrée : data\\positive\\1ca755f4-75cf-11f0-b1b6-e636fc4fc5e9.jpg\n",
      "[POSITIVE] Image enregistrée : data\\positive\\1ccb8df2-75cf-11f0-ab08-e636fc4fc5e9.jpg\n",
      "[POSITIVE] Image enregistrée : data\\positive\\1cedc5bb-75cf-11f0-98a6-e636fc4fc5e9.jpg\n",
      "[POSITIVE] Image enregistrée : data\\positive\\1d0d8a90-75cf-11f0-b488-e636fc4fc5e9.jpg\n",
      "[POSITIVE] Image enregistrée : data\\positive\\1d3085d4-75cf-11f0-9c4e-e636fc4fc5e9.jpg\n",
      "[POSITIVE] Image enregistrée : data\\positive\\1d592610-75cf-11f0-98ad-e636fc4fc5e9.jpg\n",
      "[POSITIVE] Image enregistrée : data\\positive\\1d7b583d-75cf-11f0-acac-e636fc4fc5e9.jpg\n",
      "[POSITIVE] Image enregistrée : data\\positive\\220cf590-75cf-11f0-a54c-e636fc4fc5e9.jpg\n",
      "[POSITIVE] Image enregistrée : data\\positive\\222f1fa8-75cf-11f0-9ba0-e636fc4fc5e9.jpg\n",
      "[POSITIVE] Image enregistrée : data\\positive\\225045c3-75cf-11f0-9087-e636fc4fc5e9.jpg\n",
      "[POSITIVE] Image enregistrée : data\\positive\\2276f4a1-75cf-11f0-a826-e636fc4fc5e9.jpg\n",
      "[POSITIVE] Image enregistrée : data\\positive\\229a6e82-75cf-11f0-93bf-e636fc4fc5e9.jpg\n",
      "[POSITIVE] Image enregistrée : data\\positive\\22bf114e-75cf-11f0-8cd7-e636fc4fc5e9.jpg\n",
      "[POSITIVE] Image enregistrée : data\\positive\\22e3a288-75cf-11f0-a7f1-e636fc4fc5e9.jpg\n",
      "[POSITIVE] Image enregistrée : data\\positive\\230cd8f1-75cf-11f0-8333-e636fc4fc5e9.jpg\n",
      "[POSITIVE] Image enregistrée : data\\positive\\233109da-75cf-11f0-8917-e636fc4fc5e9.jpg\n",
      "[POSITIVE] Image enregistrée : data\\positive\\235b6e51-75cf-11f0-8cc5-e636fc4fc5e9.jpg\n",
      "[POSITIVE] Image enregistrée : data\\positive\\237c70cc-75cf-11f0-8cf1-e636fc4fc5e9.jpg\n",
      "[POSITIVE] Image enregistrée : data\\positive\\239fc701-75cf-11f0-918d-e636fc4fc5e9.jpg\n",
      "[POSITIVE] Image enregistrée : data\\positive\\23c1ee26-75cf-11f0-af25-e636fc4fc5e9.jpg\n",
      "[POSITIVE] Image enregistrée : data\\positive\\23e18ffd-75cf-11f0-ba38-e636fc4fc5e9.jpg\n",
      "[POSITIVE] Image enregistrée : data\\positive\\2405b914-75cf-11f0-acc7-e636fc4fc5e9.jpg\n",
      "[POSITIVE] Image enregistrée : data\\positive\\242a2e31-75cf-11f0-97be-e636fc4fc5e9.jpg\n",
      "[POSITIVE] Image enregistrée : data\\positive\\244d0720-75cf-11f0-b8d2-e636fc4fc5e9.jpg\n",
      "[POSITIVE] Image enregistrée : data\\positive\\246f24e5-75cf-11f0-9349-e636fc4fc5e9.jpg\n",
      "[POSITIVE] Image enregistrée : data\\positive\\248ec3ca-75cf-11f0-b4f9-e636fc4fc5e9.jpg\n",
      "[POSITIVE] Image enregistrée : data\\positive\\24acd654-75cf-11f0-b9e9-e636fc4fc5e9.jpg\n",
      "[POSITIVE] Image enregistrée : data\\positive\\24d0dd8e-75cf-11f0-88e8-e636fc4fc5e9.jpg\n",
      "[POSITIVE] Image enregistrée : data\\positive\\24f5665a-75cf-11f0-af96-e636fc4fc5e9.jpg\n",
      "[POSITIVE] Image enregistrée : data\\positive\\251caaaa-75cf-11f0-beea-e636fc4fc5e9.jpg\n",
      "[POSITIVE] Image enregistrée : data\\positive\\254188b5-75cf-11f0-af90-e636fc4fc5e9.jpg\n",
      "[POSITIVE] Image enregistrée : data\\positive\\2564cb20-75cf-11f0-bb35-e636fc4fc5e9.jpg\n",
      "[POSITIVE] Image enregistrée : data\\positive\\2587de0c-75cf-11f0-a8f5-e636fc4fc5e9.jpg\n",
      "[POSITIVE] Image enregistrée : data\\positive\\25ac813b-75cf-11f0-898d-e636fc4fc5e9.jpg\n",
      "[POSITIVE] Image enregistrée : data\\positive\\25d39287-75cf-11f0-b5b5-e636fc4fc5e9.jpg\n",
      "[POSITIVE] Image enregistrée : data\\positive\\25f853c1-75cf-11f0-a185-e636fc4fc5e9.jpg\n",
      "[POSITIVE] Image enregistrée : data\\positive\\261eab93-75cf-11f0-9938-e636fc4fc5e9.jpg\n",
      "[POSITIVE] Image enregistrée : data\\positive\\26459854-75cf-11f0-b9ce-e636fc4fc5e9.jpg\n",
      "[POSITIVE] Image enregistrée : data\\positive\\2668a889-75cf-11f0-937e-e636fc4fc5e9.jpg\n",
      "[POSITIVE] Image enregistrée : data\\positive\\268d3a25-75cf-11f0-8e1c-e636fc4fc5e9.jpg\n",
      "[POSITIVE] Image enregistrée : data\\positive\\26bd37da-75cf-11f0-bce5-e636fc4fc5e9.jpg\n",
      "[POSITIVE] Image enregistrée : data\\positive\\26e94dd5-75cf-11f0-805d-e636fc4fc5e9.jpg\n",
      "[POSITIVE] Image enregistrée : data\\positive\\270c16a4-75cf-11f0-9d4f-e636fc4fc5e9.jpg\n",
      "[POSITIVE] Image enregistrée : data\\positive\\272f4331-75cf-11f0-9a6d-e636fc4fc5e9.jpg\n",
      "[POSITIVE] Image enregistrée : data\\positive\\27530a05-75cf-11f0-8aa3-e636fc4fc5e9.jpg\n",
      "[POSITIVE] Image enregistrée : data\\positive\\27729716-75cf-11f0-93fc-e636fc4fc5e9.jpg\n",
      "[POSITIVE] Image enregistrée : data\\positive\\27909103-75cf-11f0-a3dc-e636fc4fc5e9.jpg\n",
      "[POSITIVE] Image enregistrée : data\\positive\\27b0060a-75cf-11f0-a533-e636fc4fc5e9.jpg\n",
      "[POSITIVE] Image enregistrée : data\\positive\\27d1e44a-75cf-11f0-9ca1-e636fc4fc5e9.jpg\n",
      "[POSITIVE] Image enregistrée : data\\positive\\27f1a8b2-75cf-11f0-873b-e636fc4fc5e9.jpg\n",
      "[POSITIVE] Image enregistrée : data\\positive\\2813ca41-75cf-11f0-b1e9-e636fc4fc5e9.jpg\n",
      "[POSITIVE] Image enregistrée : data\\positive\\283096dc-75cf-11f0-9805-e636fc4fc5e9.jpg\n",
      "[POSITIVE] Image enregistrée : data\\positive\\2852cb3e-75cf-11f0-8e56-e636fc4fc5e9.jpg\n",
      "[POSITIVE] Image enregistrée : data\\positive\\287a6f79-75cf-11f0-a18e-e636fc4fc5e9.jpg\n",
      "[POSITIVE] Image enregistrée : data\\positive\\289f1413-75cf-11f0-8fe5-e636fc4fc5e9.jpg\n",
      "[POSITIVE] Image enregistrée : data\\positive\\28c3ce77-75cf-11f0-9929-e636fc4fc5e9.jpg\n",
      "[POSITIVE] Image enregistrée : data\\positive\\28e5d8d0-75cf-11f0-894c-e636fc4fc5e9.jpg\n",
      "[POSITIVE] Image enregistrée : data\\positive\\290a7fd6-75cf-11f0-a4b5-e636fc4fc5e9.jpg\n",
      "[POSITIVE] Image enregistrée : data\\positive\\292cb29c-75cf-11f0-8a08-e636fc4fc5e9.jpg\n",
      "[POSITIVE] Image enregistrée : data\\positive\\294c505c-75cf-11f0-9720-e636fc4fc5e9.jpg\n",
      "[POSITIVE] Image enregistrée : data\\positive\\296e769d-75cf-11f0-bbf4-e636fc4fc5e9.jpg\n",
      "[POSITIVE] Image enregistrée : data\\positive\\299a865d-75cf-11f0-a5b8-e636fc4fc5e9.jpg\n",
      "[POSITIVE] Image enregistrée : data\\positive\\29b9a52f-75cf-11f0-80f8-e636fc4fc5e9.jpg\n",
      "[POSITIVE] Image enregistrée : data\\positive\\29e3a3d9-75cf-11f0-bb55-e636fc4fc5e9.jpg\n",
      "[POSITIVE] Image enregistrée : data\\positive\\2a085495-75cf-11f0-81c0-e636fc4fc5e9.jpg\n",
      "[POSITIVE] Image enregistrée : data\\positive\\2a2d0e31-75cf-11f0-8b49-e636fc4fc5e9.jpg\n",
      "[POSITIVE] Image enregistrée : data\\positive\\2a4f3364-75cf-11f0-8216-e636fc4fc5e9.jpg\n",
      "[POSITIVE] Image enregistrée : data\\positive\\2a73b263-75cf-11f0-bf7b-e636fc4fc5e9.jpg\n",
      "[POSITIVE] Image enregistrée : data\\positive\\2a95f554-75cf-11f0-a30e-e636fc4fc5e9.jpg\n",
      "[POSITIVE] Image enregistrée : data\\positive\\2ab5bb6b-75cf-11f0-b31e-e636fc4fc5e9.jpg\n",
      "[POSITIVE] Image enregistrée : data\\positive\\2ae16faf-75cf-11f0-90f8-e636fc4fc5e9.jpg\n",
      "[POSITIVE] Image enregistrée : data\\positive\\2b0333be-75cf-11f0-963e-e636fc4fc5e9.jpg\n",
      "[POSITIVE] Image enregistrée : data\\positive\\2b2abf65-75cf-11f0-88e2-e636fc4fc5e9.jpg\n",
      "[POSITIVE] Image enregistrée : data\\positive\\2b525a5b-75cf-11f0-95da-e636fc4fc5e9.jpg\n",
      "[POSITIVE] Image enregistrée : data\\positive\\2b7900b6-75cf-11f0-b4d5-e636fc4fc5e9.jpg\n",
      "[POSITIVE] Image enregistrée : data\\positive\\2bb88779-75cf-11f0-8b43-e636fc4fc5e9.jpg\n",
      "[POSITIVE] Image enregistrée : data\\positive\\2bd9c1d2-75cf-11f0-9b50-e636fc4fc5e9.jpg\n",
      "[POSITIVE] Image enregistrée : data\\positive\\2bfcfd77-75cf-11f0-98ea-e636fc4fc5e9.jpg\n",
      "[POSITIVE] Image enregistrée : data\\positive\\2c23cb41-75cf-11f0-90c1-e636fc4fc5e9.jpg\n",
      "[POSITIVE] Image enregistrée : data\\positive\\2c4d5d3f-75cf-11f0-af9f-e636fc4fc5e9.jpg\n",
      "[POSITIVE] Image enregistrée : data\\positive\\2c80adfb-75cf-11f0-bd46-e636fc4fc5e9.jpg\n",
      "[POSITIVE] Image enregistrée : data\\positive\\2cb8d069-75cf-11f0-ae01-e636fc4fc5e9.jpg\n",
      "[POSITIVE] Image enregistrée : data\\positive\\2cdc78bf-75cf-11f0-a6e9-e636fc4fc5e9.jpg\n",
      "[POSITIVE] Image enregistrée : data\\positive\\2d046f6f-75cf-11f0-8e6b-e636fc4fc5e9.jpg\n",
      "[POSITIVE] Image enregistrée : data\\positive\\2d291a17-75cf-11f0-901f-e636fc4fc5e9.jpg\n",
      "[POSITIVE] Image enregistrée : data\\positive\\2d57d846-75cf-11f0-bc6c-e636fc4fc5e9.jpg\n",
      "[POSITIVE] Image enregistrée : data\\positive\\2d79beca-75cf-11f0-a8f8-e636fc4fc5e9.jpg\n",
      "[POSITIVE] Image enregistrée : data\\positive\\2da05d6a-75cf-11f0-9e85-e636fc4fc5e9.jpg\n",
      "[POSITIVE] Image enregistrée : data\\positive\\2dc7c9d4-75cf-11f0-b5fc-e636fc4fc5e9.jpg\n",
      "[POSITIVE] Image enregistrée : data\\positive\\2fc3c8d2-75cf-11f0-afb1-e636fc4fc5e9.jpg\n",
      "[POSITIVE] Image enregistrée : data\\positive\\2fe355aa-75cf-11f0-9b16-e636fc4fc5e9.jpg\n",
      "[POSITIVE] Image enregistrée : data\\positive\\3007fbb0-75cf-11f0-99d0-e636fc4fc5e9.jpg\n",
      "[POSITIVE] Image enregistrée : data\\positive\\3033f2fd-75cf-11f0-8f29-e636fc4fc5e9.jpg\n",
      "[POSITIVE] Image enregistrée : data\\positive\\305894a7-75cf-11f0-8648-e636fc4fc5e9.jpg\n",
      "[POSITIVE] Image enregistrée : data\\positive\\307d7cf9-75cf-11f0-be38-e636fc4fc5e9.jpg\n",
      "[POSITIVE] Image enregistrée : data\\positive\\30a68a5f-75cf-11f0-a388-e636fc4fc5e9.jpg\n",
      "[POSITIVE] Image enregistrée : data\\positive\\30d2b369-75cf-11f0-aa4f-e636fc4fc5e9.jpg\n",
      "[POSITIVE] Image enregistrée : data\\positive\\30fc1ef0-75cf-11f0-a718-e636fc4fc5e9.jpg\n",
      "[POSITIVE] Image enregistrée : data\\positive\\311bf937-75cf-11f0-b4fa-e636fc4fc5e9.jpg\n",
      "[POSITIVE] Image enregistrée : data\\positive\\314966c1-75cf-11f0-9d7a-e636fc4fc5e9.jpg\n",
      "[POSITIVE] Image enregistrée : data\\positive\\31763b7a-75cf-11f0-8f1c-e636fc4fc5e9.jpg\n",
      "[POSITIVE] Image enregistrée : data\\positive\\31a4879e-75cf-11f0-a34a-e636fc4fc5e9.jpg\n",
      "[POSITIVE] Image enregistrée : data\\positive\\31cba66a-75cf-11f0-bcdd-e636fc4fc5e9.jpg\n",
      "[POSITIVE] Image enregistrée : data\\positive\\31f53ce9-75cf-11f0-a053-e636fc4fc5e9.jpg\n",
      "[POSITIVE] Image enregistrée : data\\positive\\3219c7cc-75cf-11f0-b215-e636fc4fc5e9.jpg\n",
      "[POSITIVE] Image enregistrée : data\\positive\\3242d085-75cf-11f0-895b-e636fc4fc5e9.jpg\n",
      "[POSITIVE] Image enregistrée : data\\positive\\326c2568-75cf-11f0-afea-e636fc4fc5e9.jpg\n",
      "[POSITIVE] Image enregistrée : data\\positive\\3295363d-75cf-11f0-b663-e636fc4fc5e9.jpg\n",
      "[POSITIVE] Image enregistrée : data\\positive\\32c25113-75cf-11f0-b7cd-e636fc4fc5e9.jpg\n",
      "[POSITIVE] Image enregistrée : data\\positive\\32ee1a6b-75cf-11f0-9b36-e636fc4fc5e9.jpg\n",
      "[POSITIVE] Image enregistrée : data\\positive\\3319b729-75cf-11f0-bc52-e636fc4fc5e9.jpg\n",
      "[POSITIVE] Image enregistrée : data\\positive\\33460231-75cf-11f0-950f-e636fc4fc5e9.jpg\n",
      "[POSITIVE] Image enregistrée : data\\positive\\336fa4d6-75cf-11f0-8e72-e636fc4fc5e9.jpg\n",
      "[POSITIVE] Image enregistrée : data\\positive\\33969fc6-75cf-11f0-bd2b-e636fc4fc5e9.jpg\n",
      "[POSITIVE] Image enregistrée : data\\positive\\33c03001-75cf-11f0-bd43-e636fc4fc5e9.jpg\n",
      "[POSITIVE] Image enregistrée : data\\positive\\33e4eb2d-75cf-11f0-a759-e636fc4fc5e9.jpg\n",
      "[POSITIVE] Image enregistrée : data\\positive\\3410c70b-75cf-11f0-b459-e636fc4fc5e9.jpg\n",
      "[POSITIVE] Image enregistrée : data\\positive\\34355082-75cf-11f0-ad8b-e636fc4fc5e9.jpg\n",
      "[POSITIVE] Image enregistrée : data\\positive\\3459f06d-75cf-11f0-a5b3-e636fc4fc5e9.jpg\n",
      "[POSITIVE] Image enregistrée : data\\positive\\347cb15d-75cf-11f0-a416-e636fc4fc5e9.jpg\n",
      "[POSITIVE] Image enregistrée : data\\positive\\34a5b40e-75cf-11f0-9db5-e636fc4fc5e9.jpg\n",
      "[POSITIVE] Image enregistrée : data\\positive\\34cc0d61-75cf-11f0-8822-e636fc4fc5e9.jpg\n",
      "[POSITIVE] Image enregistrée : data\\positive\\34f65b5f-75cf-11f0-9074-e636fc4fc5e9.jpg\n",
      "[POSITIVE] Image enregistrée : data\\positive\\3522708f-75cf-11f0-bef9-e636fc4fc5e9.jpg\n",
      "[POSITIVE] Image enregistrée : data\\positive\\355cd3a9-75cf-11f0-a832-e636fc4fc5e9.jpg\n",
      "[POSITIVE] Image enregistrée : data\\positive\\3599cf59-75cf-11f0-858c-e636fc4fc5e9.jpg\n",
      "[POSITIVE] Image enregistrée : data\\positive\\35ecf056-75cf-11f0-9e4a-e636fc4fc5e9.jpg\n",
      "[POSITIVE] Image enregistrée : data\\positive\\3629e2e7-75cf-11f0-b8f2-e636fc4fc5e9.jpg\n",
      "[POSITIVE] Image enregistrée : data\\positive\\36510065-75cf-11f0-ab75-e636fc4fc5e9.jpg\n",
      "[POSITIVE] Image enregistrée : data\\positive\\367a70d0-75cf-11f0-9de8-e636fc4fc5e9.jpg\n",
      "[POSITIVE] Image enregistrée : data\\positive\\36a9225a-75cf-11f0-942c-e636fc4fc5e9.jpg\n",
      "[POSITIVE] Image enregistrée : data\\positive\\36cb26ca-75cf-11f0-b2e9-e636fc4fc5e9.jpg\n",
      "[POSITIVE] Image enregistrée : data\\positive\\36efb802-75cf-11f0-9e7d-e636fc4fc5e9.jpg\n",
      "[POSITIVE] Image enregistrée : data\\positive\\3722f748-75cf-11f0-b158-e636fc4fc5e9.jpg\n",
      "[POSITIVE] Image enregistrée : data\\positive\\3748a650-75cf-11f0-97f9-e636fc4fc5e9.jpg\n",
      "[POSITIVE] Image enregistrée : data\\positive\\376a88ae-75cf-11f0-a29c-e636fc4fc5e9.jpg\n",
      "[POSITIVE] Image enregistrée : data\\positive\\379d162d-75cf-11f0-97b3-e636fc4fc5e9.jpg\n",
      "[POSITIVE] Image enregistrée : data\\positive\\37b7f2b1-75cf-11f0-8f33-e636fc4fc5e9.jpg\n",
      "[POSITIVE] Image enregistrée : data\\positive\\37dbf22c-75cf-11f0-9f33-e636fc4fc5e9.jpg\n",
      "[POSITIVE] Image enregistrée : data\\positive\\3808793a-75cf-11f0-abbb-e636fc4fc5e9.jpg\n",
      "[POSITIVE] Image enregistrée : data\\positive\\3831f6ff-75cf-11f0-9535-e636fc4fc5e9.jpg\n",
      "[POSITIVE] Image enregistrée : data\\positive\\3855eae2-75cf-11f0-b610-e636fc4fc5e9.jpg\n",
      "[POSITIVE] Image enregistrée : data\\positive\\38877871-75cf-11f0-b1b4-e636fc4fc5e9.jpg\n",
      "[POSITIVE] Image enregistrée : data\\positive\\38ac60b9-75cf-11f0-a9f0-e636fc4fc5e9.jpg\n",
      "[POSITIVE] Image enregistrée : data\\positive\\38c95f14-75cf-11f0-a866-e636fc4fc5e9.jpg\n",
      "[POSITIVE] Image enregistrée : data\\positive\\38f2b83c-75cf-11f0-a33a-e636fc4fc5e9.jpg\n",
      "[POSITIVE] Image enregistrée : data\\positive\\391dd400-75cf-11f0-b6a5-e636fc4fc5e9.jpg\n",
      "[POSITIVE] Image enregistrée : data\\positive\\394ad52c-75cf-11f0-9f88-e636fc4fc5e9.jpg\n",
      "[POSITIVE] Image enregistrée : data\\positive\\3971d20f-75cf-11f0-8706-e636fc4fc5e9.jpg\n",
      "[POSITIVE] Image enregistrée : data\\positive\\39966dcb-75cf-11f0-a6c0-e636fc4fc5e9.jpg\n",
      "[POSITIVE] Image enregistrée : data\\positive\\39b96059-75cf-11f0-a853-e636fc4fc5e9.jpg\n",
      "[POSITIVE] Image enregistrée : data\\positive\\39dd41ec-75cf-11f0-b6a0-e636fc4fc5e9.jpg\n",
      "[POSITIVE] Image enregistrée : data\\positive\\3a01cb6c-75cf-11f0-b69a-e636fc4fc5e9.jpg\n",
      "[POSITIVE] Image enregistrée : data\\positive\\3a23f382-75cf-11f0-bc94-e636fc4fc5e9.jpg\n",
      "[POSITIVE] Image enregistrée : data\\positive\\3a488ee4-75cf-11f0-bf3c-e636fc4fc5e9.jpg\n",
      "[POSITIVE] Image enregistrée : data\\positive\\3a6d4bfe-75cf-11f0-b72a-e636fc4fc5e9.jpg\n",
      "[POSITIVE] Image enregistrée : data\\positive\\3a8b6753-75cf-11f0-b181-e636fc4fc5e9.jpg\n",
      "[POSITIVE] Image enregistrée : data\\positive\\3aaa65d0-75cf-11f0-aa9b-e636fc4fc5e9.jpg\n",
      "[POSITIVE] Image enregistrée : data\\positive\\3ad1ad10-75cf-11f0-ba91-e636fc4fc5e9.jpg\n"
     ]
    }
   ],
   "source": [
    "# # Ouvre la webcam\n",
    "# face_cascade = cv2.CascadeClassifier(cv2.data.haarcascades + \"haarcascade_frontalface_default.xml\")\n",
    "# cap = cv2.VideoCapture(0)  # 0 pour webcam intégrée\n",
    "\n",
    "# # Coordonnées et taille du cadre\n",
    "# x, y, w, h = 200, 120, 250, 250\n",
    "\n",
    "# print(\"Appuie sur 'a' pour une image anchor, 'p' pour positive, 'q' pour quitter.\")\n",
    "\n",
    "# while cap.isOpened():\n",
    "#     ret, frame = cap.read()\n",
    "#     if not ret:\n",
    "#         continue\n",
    "\n",
    "#     # Affiche un cadre vert autour de la zone d'intérêt\n",
    "#     gray = cv2.cvtColor(frame, cv2.COLOR_BGR2GRAY)  # conversion pour détection\n",
    "#     faces = face_cascade.detectMultiScale(gray, scaleFactor=1.1, minNeighbors=5, minSize=(100, 100))\n",
    "    \n",
    "#     if len(faces) > 0:\n",
    "#         # On prend le plus grand visage détecté (au cas où il y en a plusieurs)\n",
    "#         faces = sorted(faces, key=lambda f: f[2] * f[3], reverse=True)\n",
    "#         (x, y, w, h) = faces[0]\n",
    "\n",
    "#         # Affiche la fenêtre plus grande\n",
    "#         cv2.rectangle(frame, (x, y), (x + w, y + h), (0, 255, 0), 2)\n",
    "\n",
    "#     cv2.imshow('Image Collection', frame)\n",
    "\n",
    "#     key = cv2.waitKey(1) & 0xFF\n",
    "\n",
    "#     if key == ord('a'):\n",
    "#         cropped = frame[y:y + h, x:x + w]\n",
    "#         imgname = os.path.join(ANC_PATH, f\"{uuid.uuid1()}.jpg\")\n",
    "#         cv2.imwrite(imgname, cropped)\n",
    "#         print(f\"[ANCHOR] Image enregistrée : {imgname}\")\n",
    "\n",
    "#     elif key == ord('p'):\n",
    "#         cropped = frame[y:y + h, x:x + w]\n",
    "#         imgname = os.path.join(POS_PATH, f\"{uuid.uuid1()}.jpg\")\n",
    "#         cv2.imwrite(imgname, cropped)\n",
    "#         print(f\"[POSITIVE] Image enregistrée : {imgname}\")\n",
    "\n",
    "#     elif key == ord('q'):\n",
    "#         break\n",
    "\n",
    "# cap.release()\n",
    "# cv2.destroyAllWindows()"
   ]
  },
  {
   "cell_type": "markdown",
   "id": "196f609f",
   "metadata": {},
   "source": [
    "**Data augmentation**"
   ]
  },
  {
   "cell_type": "code",
   "execution_count": 10,
   "id": "ccfd1666",
   "metadata": {},
   "outputs": [],
   "source": [
    "from torchvision import transforms"
   ]
  },
  {
   "cell_type": "code",
   "execution_count": 8,
   "id": "bba3770b",
   "metadata": {},
   "outputs": [],
   "source": [
    "augment = transforms.Compose([\n",
    "    transforms.RandomHorizontalFlip(),\n",
    "    transforms.ColorJitter(brightness=0.02, contrast=0.4, saturation=0.1),\n",
    "    transforms.RandomApply([transforms.GaussianBlur(kernel_size=3)], p=0.2),\n",
    "    transforms.ToTensor()\n",
    "])"
   ]
  },
  {
   "cell_type": "code",
   "execution_count": null,
   "id": "88569483",
   "metadata": {},
   "outputs": [],
   "source": [
    "# def augment_images_in_folder(folder_path, augment_times=5):\n",
    "#     \"\"\"Applique la data augmentation sur toutes les images d'un dossier\"\"\"\n",
    "#     files = [f for f in os.listdir(folder_path) if f.lower().endswith(('.jpg'))]\n",
    "\n",
    "#     for file in files:\n",
    "#         img_path = os.path.join(folder_path, file)\n",
    "#         img = Image.open(img_path).convert('RGB')\n",
    "\n",
    "#         for _ in range(augment_times):\n",
    "#             augmented_img = augment(img)\n",
    "#             save_img = transforms.ToPILImage()(augmented_img)\n",
    "#             save_img.save(os.path.join(folder_path, f\"{uuid.uuid1()}.jpg\"))\n",
    "\n",
    "#         print(f\"[OK] Augmentation faite pour {file}\")"
   ]
  },
  {
   "cell_type": "code",
   "execution_count": null,
   "id": "861f7a8d",
   "metadata": {},
   "outputs": [
    {
     "name": "stdout",
     "output_type": "stream",
     "text": [
      "📸 Début augmentation des images...\n",
      "[OK] Augmentation faite pour 0034f184-75ce-11f0-b39f-e636fc4fc5e9.jpg\n",
      "[OK] Augmentation faite pour 00685d5d-75ce-11f0-84ac-e636fc4fc5e9.jpg\n",
      "[OK] Augmentation faite pour 009acb34-75ce-11f0-b6fb-e636fc4fc5e9.jpg\n",
      "[OK] Augmentation faite pour 00d89feb-75ce-11f0-b25e-e636fc4fc5e9.jpg\n",
      "[OK] Augmentation faite pour 01095ffe-75ce-11f0-a342-e636fc4fc5e9.jpg\n",
      "[OK] Augmentation faite pour 013933a1-75ce-11f0-bc6d-e636fc4fc5e9.jpg\n",
      "[OK] Augmentation faite pour 016643c2-75ce-11f0-b9cf-e636fc4fc5e9.jpg\n",
      "[OK] Augmentation faite pour 0194a864-75ce-11f0-b3d2-e636fc4fc5e9.jpg\n",
      "[OK] Augmentation faite pour 01ccecb9-75ce-11f0-aa09-e636fc4fc5e9.jpg\n",
      "[OK] Augmentation faite pour 021881e2-75ce-11f0-afee-e636fc4fc5e9.jpg\n",
      "[OK] Augmentation faite pour 02614686-75ce-11f0-b593-e636fc4fc5e9.jpg\n",
      "[OK] Augmentation faite pour 028db5df-75ce-11f0-8d0b-e636fc4fc5e9.jpg\n",
      "[OK] Augmentation faite pour 02bc02bc-75ce-11f0-88ef-e636fc4fc5e9.jpg\n",
      "[OK] Augmentation faite pour 02ea7dcb-75ce-11f0-89fb-e636fc4fc5e9.jpg\n",
      "[OK] Augmentation faite pour 0316bdaa-75ce-11f0-a7df-e636fc4fc5e9.jpg\n",
      "[OK] Augmentation faite pour 0344dc9b-75ce-11f0-9cec-e636fc4fc5e9.jpg\n",
      "[OK] Augmentation faite pour 0d87d7e5-75ce-11f0-997b-e636fc4fc5e9.jpg\n",
      "[OK] Augmentation faite pour 0dad36e7-75ce-11f0-b0ba-e636fc4fc5e9.jpg\n",
      "[OK] Augmentation faite pour 0dde6590-75ce-11f0-b01f-e636fc4fc5e9.jpg\n",
      "[OK] Augmentation faite pour 0e0bc2db-75ce-11f0-bc0b-e636fc4fc5e9.jpg\n",
      "[OK] Augmentation faite pour 0e376954-75ce-11f0-88be-e636fc4fc5e9.jpg\n",
      "[OK] Augmentation faite pour 0e6856b8-75ce-11f0-b11a-e636fc4fc5e9.jpg\n",
      "[OK] Augmentation faite pour 0ea098c4-75ce-11f0-8783-e636fc4fc5e9.jpg\n",
      "[OK] Augmentation faite pour 0ecdc628-75ce-11f0-9f38-e636fc4fc5e9.jpg\n",
      "[OK] Augmentation faite pour 0f00ef1f-75ce-11f0-9c72-e636fc4fc5e9.jpg\n",
      "[OK] Augmentation faite pour 0f33ed4e-75ce-11f0-89a7-e636fc4fc5e9.jpg\n",
      "[OK] Augmentation faite pour 0f616e6a-75ce-11f0-b2da-e636fc4fc5e9.jpg\n",
      "[OK] Augmentation faite pour 0f8fe724-75ce-11f0-806b-e636fc4fc5e9.jpg\n",
      "[OK] Augmentation faite pour 0fc410e4-75ce-11f0-ab32-e636fc4fc5e9.jpg\n",
      "[OK] Augmentation faite pour 0fef1c22-75ce-11f0-b84a-e636fc4fc5e9.jpg\n",
      "[OK] Augmentation faite pour 101d8794-75ce-11f0-81c5-e636fc4fc5e9.jpg\n",
      "[OK] Augmentation faite pour 104e2299-75ce-11f0-bd0f-e636fc4fc5e9.jpg\n",
      "[OK] Augmentation faite pour 107f0984-75ce-11f0-8347-e636fc4fc5e9.jpg\n",
      "[OK] Augmentation faite pour 10b2547f-75ce-11f0-96e9-e636fc4fc5e9.jpg\n",
      "[OK] Augmentation faite pour 10efaf39-75ce-11f0-9547-e636fc4fc5e9.jpg\n",
      "[OK] Augmentation faite pour 111dd625-75ce-11f0-8ba3-e636fc4fc5e9.jpg\n",
      "[OK] Augmentation faite pour 114a0470-75ce-11f0-9123-e636fc4fc5e9.jpg\n",
      "[OK] Augmentation faite pour 117872ff-75ce-11f0-90d6-e636fc4fc5e9.jpg\n",
      "[OK] Augmentation faite pour 11a36b00-75ce-11f0-9b2d-e636fc4fc5e9.jpg\n",
      "[OK] Augmentation faite pour 11e52e5f-75ce-11f0-b520-e636fc4fc5e9.jpg\n",
      "[OK] Augmentation faite pour 12343676-75ce-11f0-bc69-e636fc4fc5e9.jpg\n",
      "[OK] Augmentation faite pour 1258a8b1-75ce-11f0-938b-e636fc4fc5e9.jpg\n",
      "[OK] Augmentation faite pour 128715bd-75ce-11f0-adef-e636fc4fc5e9.jpg\n",
      "[OK] Augmentation faite pour 12b56601-75ce-11f0-a64a-e636fc4fc5e9.jpg\n",
      "[OK] Augmentation faite pour 12e64fb7-75ce-11f0-9b9f-e636fc4fc5e9.jpg\n",
      "[OK] Augmentation faite pour 13127441-75ce-11f0-a159-e636fc4fc5e9.jpg\n",
      "[OK] Augmentation faite pour 13453bde-75ce-11f0-bf34-e636fc4fc5e9.jpg\n",
      "[OK] Augmentation faite pour 136c9d91-75ce-11f0-a4e0-e636fc4fc5e9.jpg\n",
      "[OK] Augmentation faite pour 139ff408-75ce-11f0-9c3c-e636fc4fc5e9.jpg\n",
      "[OK] Augmentation faite pour 13c70d35-75ce-11f0-b69e-e636fc4fc5e9.jpg\n",
      "[OK] Augmentation faite pour 13f0c7f0-75ce-11f0-95a2-e636fc4fc5e9.jpg\n",
      "[OK] Augmentation faite pour 1419e00a-75ce-11f0-8a6f-e636fc4fc5e9.jpg\n",
      "[OK] Augmentation faite pour 143c0b94-75ce-11f0-9cf9-e636fc4fc5e9.jpg\n",
      "[OK] Augmentation faite pour 1460c873-75ce-11f0-b842-e636fc4fc5e9.jpg\n",
      "[OK] Augmentation faite pour 148a3400-75ce-11f0-9536-e636fc4fc5e9.jpg\n",
      "[OK] Augmentation faite pour 14b6493b-75ce-11f0-af3d-e636fc4fc5e9.jpg\n",
      "[OK] Augmentation faite pour 14daf4d9-75ce-11f0-bff6-e636fc4fc5e9.jpg\n",
      "[OK] Augmentation faite pour 15045b0c-75ce-11f0-9aa4-e636fc4fc5e9.jpg\n",
      "[OK] Augmentation faite pour 1532d848-75ce-11f0-9329-e636fc4fc5e9.jpg\n",
      "[OK] Augmentation faite pour 1559ee69-75ce-11f0-8c90-e636fc4fc5e9.jpg\n",
      "[OK] Augmentation faite pour 158356ca-75ce-11f0-b53a-e636fc4fc5e9.jpg\n",
      "[OK] Augmentation faite pour 15bb805f-75ce-11f0-b85c-e636fc4fc5e9.jpg\n",
      "[OK] Augmentation faite pour 15ec660d-75ce-11f0-883e-e636fc4fc5e9.jpg\n",
      "[OK] Augmentation faite pour 16184699-75ce-11f0-b526-e636fc4fc5e9.jpg\n",
      "[OK] Augmentation faite pour 1643370c-75ce-11f0-8ac8-e636fc4fc5e9.jpg\n",
      "[OK] Augmentation faite pour 1673c5e3-75ce-11f0-a399-e636fc4fc5e9.jpg\n",
      "[OK] Augmentation faite pour 16a166c3-75ce-11f0-97b7-e636fc4fc5e9.jpg\n",
      "[OK] Augmentation faite pour 16d44e1f-75ce-11f0-ab56-e636fc4fc5e9.jpg\n",
      "[OK] Augmentation faite pour 170c746a-75ce-11f0-9c39-e636fc4fc5e9.jpg\n",
      "[OK] Augmentation faite pour 1735e11d-75ce-11f0-a363-e636fc4fc5e9.jpg\n",
      "[OK] Augmentation faite pour 1766c946-75ce-11f0-8162-e636fc4fc5e9.jpg\n",
      "[OK] Augmentation faite pour 1799f48a-75ce-11f0-a8fe-e636fc4fc5e9.jpg\n",
      "[OK] Augmentation faite pour 17c869dc-75ce-11f0-8e1e-e636fc4fc5e9.jpg\n",
      "[OK] Augmentation faite pour 17fbb6e7-75ce-11f0-9680-e636fc4fc5e9.jpg\n",
      "[OK] Augmentation faite pour 182ef6b9-75ce-11f0-b7be-e636fc4fc5e9.jpg\n",
      "[OK] Augmentation faite pour 1858706e-75ce-11f0-9228-e636fc4fc5e9.jpg\n",
      "[OK] Augmentation faite pour 189c1830-75ce-11f0-8cd9-e636fc4fc5e9.jpg\n",
      "[OK] Augmentation faite pour 18ce16b4-75ce-11f0-ab2c-e636fc4fc5e9.jpg\n",
      "[OK] Augmentation faite pour 190aa74b-75ce-11f0-908b-e636fc4fc5e9.jpg\n",
      "[OK] Augmentation faite pour 19452290-75ce-11f0-a40b-e636fc4fc5e9.jpg\n",
      "[OK] Augmentation faite pour 19984f4a-75ce-11f0-94ed-e636fc4fc5e9.jpg\n",
      "[OK] Augmentation faite pour 19cb9670-75ce-11f0-84af-e636fc4fc5e9.jpg\n",
      "[OK] Augmentation faite pour 19f9d950-75ce-11f0-9c9b-e636fc4fc5e9.jpg\n",
      "[OK] Augmentation faite pour 1cf1619a-75ce-11f0-8844-e636fc4fc5e9.jpg\n",
      "[OK] Augmentation faite pour 1d15e7e4-75ce-11f0-b350-e636fc4fc5e9.jpg\n",
      "[OK] Augmentation faite pour 1d442338-75ce-11f0-a1e6-e636fc4fc5e9.jpg\n",
      "[OK] Augmentation faite pour 1d70e957-75ce-11f0-8034-e636fc4fc5e9.jpg\n",
      "[OK] Augmentation faite pour 1d99dd44-75ce-11f0-87b2-e636fc4fc5e9.jpg\n",
      "[OK] Augmentation faite pour 1dcce9c3-75ce-11f0-82aa-e636fc4fc5e9.jpg\n",
      "[OK] Augmentation faite pour 1df0fc15-75ce-11f0-85f8-e636fc4fc5e9.jpg\n",
      "[OK] Augmentation faite pour 1e1dbbcb-75ce-11f0-a378-e636fc4fc5e9.jpg\n",
      "[OK] Augmentation faite pour 1e4bda8a-75ce-11f0-a7b1-e636fc4fc5e9.jpg\n",
      "[OK] Augmentation faite pour 1e7a5d0c-75ce-11f0-ba1f-e636fc4fc5e9.jpg\n",
      "[OK] Augmentation faite pour 1eadb1ab-75ce-11f0-94b6-e636fc4fc5e9.jpg\n",
      "[OK] Augmentation faite pour 1edc0169-75ce-11f0-8437-e636fc4fc5e9.jpg\n",
      "[OK] Augmentation faite pour 1f0ce30a-75ce-11f0-9c5e-e636fc4fc5e9.jpg\n",
      "[OK] Augmentation faite pour 1f3b55f3-75ce-11f0-8441-e636fc4fc5e9.jpg\n",
      "[OK] Augmentation faite pour 1f64b8cb-75ce-11f0-97ee-e636fc4fc5e9.jpg\n",
      "[OK] Augmentation faite pour 1f9322ee-75ce-11f0-b0b3-e636fc4fc5e9.jpg\n",
      "[OK] Augmentation faite pour 1fcb2ed5-75ce-11f0-a7bf-e636fc4fc5e9.jpg\n",
      "[OK] Augmentation faite pour 1ff89cb2-75ce-11f0-b251-e636fc4fc5e9.jpg\n",
      "[OK] Augmentation faite pour 202f9f35-75ce-11f0-bdee-e636fc4fc5e9.jpg\n",
      "[OK] Augmentation faite pour 205dbe26-75ce-11f0-9188-e636fc4fc5e9.jpg\n",
      "[OK] Augmentation faite pour 20911c69-75ce-11f0-a46d-e636fc4fc5e9.jpg\n",
      "[OK] Augmentation faite pour 20c46310-75ce-11f0-9479-e636fc4fc5e9.jpg\n",
      "[OK] Augmentation faite pour 212d820e-75ce-11f0-b01f-e636fc4fc5e9.jpg\n",
      "[OK] Augmentation faite pour 215e0b68-75ce-11f0-986f-e636fc4fc5e9.jpg\n",
      "[OK] Augmentation faite pour 218c2634-75ce-11f0-a96b-e636fc4fc5e9.jpg\n",
      "[OK] Augmentation faite pour 21c850e0-75ce-11f0-b48a-e636fc4fc5e9.jpg\n",
      "[OK] Augmentation faite pour 21f56f22-75ce-11f0-828b-e636fc4fc5e9.jpg\n",
      "[OK] Augmentation faite pour 22328f9c-75ce-11f0-ab40-e636fc4fc5e9.jpg\n",
      "[OK] Augmentation faite pour 2265d2fb-75ce-11f0-aad6-e636fc4fc5e9.jpg\n",
      "[OK] Augmentation faite pour 229493cb-75ce-11f0-b9aa-e636fc4fc5e9.jpg\n",
      "[OK] Augmentation faite pour 22c28ec9-75ce-11f0-85ef-e636fc4fc5e9.jpg\n",
      "[OK] Augmentation faite pour 22e999aa-75ce-11f0-a8d3-e636fc4fc5e9.jpg\n",
      "[OK] Augmentation faite pour 231cc348-75ce-11f0-96c2-e636fc4fc5e9.jpg\n",
      "[OK] Augmentation faite pour 2346342d-75ce-11f0-8c4e-e636fc4fc5e9.jpg\n",
      "[OK] Augmentation faite pour 2374b79d-75ce-11f0-9534-e636fc4fc5e9.jpg\n",
      "[OK] Augmentation faite pour 23b1eff8-75ce-11f0-bec2-e636fc4fc5e9.jpg\n",
      "[OK] Augmentation faite pour 23e01aee-75ce-11f0-8d61-e636fc4fc5e9.jpg\n",
      "[OK] Augmentation faite pour 24072a32-75ce-11f0-949b-e636fc4fc5e9.jpg\n",
      "[OK] Augmentation faite pour 24358880-75ce-11f0-a3e6-e636fc4fc5e9.jpg\n",
      "[OK] Augmentation faite pour 24612c88-75ce-11f0-a76b-e636fc4fc5e9.jpg\n",
      "[OK] Augmentation faite pour 24926391-75ce-11f0-a22c-e636fc4fc5e9.jpg\n",
      "[OK] Augmentation faite pour 24c5d7b4-75ce-11f0-b9fe-e636fc4fc5e9.jpg\n",
      "[OK] Augmentation faite pour 24ecbc6f-75ce-11f0-8619-e636fc4fc5e9.jpg\n",
      "[OK] Augmentation faite pour 251b024c-75ce-11f0-9df4-e636fc4fc5e9.jpg\n",
      "[OK] Augmentation faite pour 2546ae27-75ce-11f0-9667-e636fc4fc5e9.jpg\n",
      "[OK] Augmentation faite pour 25819798-75ce-11f0-83be-e636fc4fc5e9.jpg\n",
      "[OK] Augmentation faite pour 25affeb3-75ce-11f0-8e18-e636fc4fc5e9.jpg\n",
      "[OK] Augmentation faite pour 25ddac0d-75ce-11f0-b9c2-e636fc4fc5e9.jpg\n",
      "[OK] Augmentation faite pour 26075ebc-75ce-11f0-a918-e636fc4fc5e9.jpg\n",
      "[OK] Augmentation faite pour 2630d587-75ce-11f0-a208-e636fc4fc5e9.jpg\n",
      "[OK] Augmentation faite pour 26622e00-75ce-11f0-947a-e636fc4fc5e9.jpg\n",
      "[OK] Augmentation faite pour 2684c920-75ce-11f0-a48b-e636fc4fc5e9.jpg\n",
      "[OK] Augmentation faite pour 26b07f00-75ce-11f0-aa60-e636fc4fc5e9.jpg\n",
      "[OK] Augmentation faite pour 26de6a29-75ce-11f0-adc7-e636fc4fc5e9.jpg\n",
      "[OK] Augmentation faite pour 27196300-75ce-11f0-b724-e636fc4fc5e9.jpg\n",
      "[OK] Augmentation faite pour 274362aa-75ce-11f0-8cae-e636fc4fc5e9.jpg\n",
      "[OK] Augmentation faite pour 27756df6-75ce-11f0-8a91-e636fc4fc5e9.jpg\n",
      "[OK] Augmentation faite pour 27a38f20-75ce-11f0-861f-e636fc4fc5e9.jpg\n",
      "[OK] Augmentation faite pour 27d6d74b-75ce-11f0-b4c4-e636fc4fc5e9.jpg\n",
      "[OK] Augmentation faite pour 28185a48-75ce-11f0-acae-e636fc4fc5e9.jpg\n",
      "[OK] Augmentation faite pour 2840fe3c-75ce-11f0-9006-e636fc4fc5e9.jpg\n",
      "[OK] Augmentation faite pour 28790c33-75ce-11f0-ad15-e636fc4fc5e9.jpg\n",
      "[OK] Augmentation faite pour 28a74e85-75ce-11f0-b3bb-e636fc4fc5e9.jpg\n",
      "[OK] Augmentation faite pour 28d5be94-75ce-11f0-830e-e636fc4fc5e9.jpg\n",
      "[OK] Augmentation faite pour 2903c877-75ce-11f0-9164-e636fc4fc5e9.jpg\n",
      "[OK] Augmentation faite pour 292b23d5-75ce-11f0-b12e-e636fc4fc5e9.jpg\n",
      "[OK] Augmentation faite pour 29634738-75ce-11f0-90e6-e636fc4fc5e9.jpg\n",
      "[OK] Augmentation faite pour 29919513-75ce-11f0-b680-e636fc4fc5e9.jpg\n",
      "[OK] Augmentation faite pour 29c008e9-75ce-11f0-a0ea-e636fc4fc5e9.jpg\n",
      "[OK] Augmentation faite pour 29e71ff5-75ce-11f0-8782-e636fc4fc5e9.jpg\n",
      "[OK] Augmentation faite pour 2a127417-75ce-11f0-b10b-e636fc4fc5e9.jpg\n",
      "[OK] Augmentation faite pour 2a3f19f7-75ce-11f0-878d-e636fc4fc5e9.jpg\n",
      "[OK] Augmentation faite pour 2a774587-75ce-11f0-ac4a-e636fc4fc5e9.jpg\n",
      "[OK] Augmentation faite pour 2aa0bb89-75ce-11f0-bc16-e636fc4fc5e9.jpg\n",
      "[OK] Augmentation faite pour 2acc9e73-75ce-11f0-8ecc-e636fc4fc5e9.jpg\n",
      "[OK] Augmentation faite pour 2af63af7-75ce-11f0-9024-e636fc4fc5e9.jpg\n",
      "[OK] Augmentation faite pour eee5f7c0-75cd-11f0-8aa8-e636fc4fc5e9.jpg\n",
      "[OK] Augmentation faite pour ef69c9b8-75cd-11f0-9ae3-e636fc4fc5e9.jpg\n",
      "[OK] Augmentation faite pour efd525e5-75cd-11f0-aaa0-e636fc4fc5e9.jpg\n",
      "[OK] Augmentation faite pour effbfa3a-75cd-11f0-8b1a-e636fc4fc5e9.jpg\n",
      "[OK] Augmentation faite pour f03729cc-75cd-11f0-af06-e636fc4fc5e9.jpg\n",
      "[OK] Augmentation faite pour f06a09a5-75cd-11f0-b8a0-e636fc4fc5e9.jpg\n",
      "[OK] Augmentation faite pour f0917ed0-75cd-11f0-9c4b-e636fc4fc5e9.jpg\n",
      "[OK] Augmentation faite pour f0b5e03d-75cd-11f0-bbb1-e636fc4fc5e9.jpg\n",
      "[OK] Augmentation faite pour f0e6184d-75cd-11f0-b37b-e636fc4fc5e9.jpg\n",
      "[OK] Augmentation faite pour f10eaef2-75cd-11f0-bec3-e636fc4fc5e9.jpg\n",
      "[OK] Augmentation faite pour f14a94c5-75cd-11f0-aedf-e636fc4fc5e9.jpg\n",
      "[OK] Augmentation faite pour f17ddf74-75cd-11f0-bb77-e636fc4fc5e9.jpg\n",
      "[OK] Augmentation faite pour f1a4e2c5-75cd-11f0-a524-e636fc4fc5e9.jpg\n",
      "[OK] Augmentation faite pour f1ee25f3-75cd-11f0-a14c-e636fc4fc5e9.jpg\n",
      "[OK] Augmentation faite pour f2155dd0-75cd-11f0-a9ca-e636fc4fc5e9.jpg\n",
      "[OK] Augmentation faite pour f24ffb7c-75cd-11f0-9e43-e636fc4fc5e9.jpg\n",
      "[OK] Augmentation faite pour f28f342b-75cd-11f0-b9ea-e636fc4fc5e9.jpg\n",
      "[OK] Augmentation faite pour f2c76959-75cd-11f0-86ac-e636fc4fc5e9.jpg\n",
      "[OK] Augmentation faite pour f308875d-75cd-11f0-bb9d-e636fc4fc5e9.jpg\n",
      "[OK] Augmentation faite pour f33fd90b-75cd-11f0-994d-e636fc4fc5e9.jpg\n",
      "[OK] Augmentation faite pour f37e7ed9-75cd-11f0-9762-e636fc4fc5e9.jpg\n",
      "[OK] Augmentation faite pour f3ace0bb-75cd-11f0-a700-e636fc4fc5e9.jpg\n",
      "[OK] Augmentation faite pour f4221db9-75cd-11f0-aa22-e636fc4fc5e9.jpg\n",
      "[OK] Augmentation faite pour f44ba7e0-75cd-11f0-a772-e636fc4fc5e9.jpg\n",
      "[OK] Augmentation faite pour fe605e79-75cd-11f0-96cd-e636fc4fc5e9.jpg\n",
      "[OK] Augmentation faite pour fe8c541a-75cd-11f0-83a2-e636fc4fc5e9.jpg\n",
      "[OK] Augmentation faite pour fec48923-75cd-11f0-83f3-e636fc4fc5e9.jpg\n",
      "[OK] Augmentation faite pour fef7bfa2-75cd-11f0-b68a-e636fc4fc5e9.jpg\n",
      "[OK] Augmentation faite pour ff51ae7f-75cd-11f0-baa0-e636fc4fc5e9.jpg\n",
      "[OK] Augmentation faite pour ff878c8e-75cd-11f0-95c7-e636fc4fc5e9.jpg\n",
      "[OK] Augmentation faite pour ffbc945f-75cd-11f0-b20b-e636fc4fc5e9.jpg\n",
      "[OK] Augmentation faite pour fff7e411-75cd-11f0-88f8-e636fc4fc5e9.jpg\n",
      "[OK] Augmentation faite pour 066be7b7-75cf-11f0-9094-e636fc4fc5e9.jpg\n",
      "[OK] Augmentation faite pour 0695639b-75cf-11f0-bda2-e636fc4fc5e9.jpg\n",
      "[OK] Augmentation faite pour 06c3d41e-75cf-11f0-af47-e636fc4fc5e9.jpg\n",
      "[OK] Augmentation faite pour 06ef0973-75cf-11f0-a00a-e636fc4fc5e9.jpg\n",
      "[OK] Augmentation faite pour 07257a2d-75cf-11f0-b299-e636fc4fc5e9.jpg\n",
      "[OK] Augmentation faite pour 074f0cb0-75cf-11f0-a14c-e636fc4fc5e9.jpg\n",
      "[OK] Augmentation faite pour 0771619b-75cf-11f0-8687-e636fc4fc5e9.jpg\n",
      "[OK] Augmentation faite pour 079a982b-75cf-11f0-b6a3-e636fc4fc5e9.jpg\n",
      "[OK] Augmentation faite pour 07bcbcee-75cf-11f0-8ca7-e636fc4fc5e9.jpg\n",
      "[OK] Augmentation faite pour 07e66de9-75cf-11f0-bcbc-e636fc4fc5e9.jpg\n",
      "[OK] Augmentation faite pour 080de039-75cf-11f0-bdd2-e636fc4fc5e9.jpg\n",
      "[OK] Augmentation faite pour 0836e8f2-75cf-11f0-8238-e636fc4fc5e9.jpg\n",
      "[OK] Augmentation faite pour 0858d2db-75cf-11f0-8521-e636fc4fc5e9.jpg\n",
      "[OK] Augmentation faite pour 087a1f01-75cf-11f0-81b9-e636fc4fc5e9.jpg\n",
      "[OK] Augmentation faite pour 08a26318-75cf-11f0-851f-e636fc4fc5e9.jpg\n",
      "[OK] Augmentation faite pour 08c70ed6-75cf-11f0-acf5-e636fc4fc5e9.jpg\n",
      "[OK] Augmentation faite pour 08ee2f00-75cf-11f0-8011-e636fc4fc5e9.jpg\n",
      "[OK] Augmentation faite pour 09193d63-75cf-11f0-945c-e636fc4fc5e9.jpg\n",
      "[OK] Augmentation faite pour 0945eef3-75cf-11f0-8b68-e636fc4fc5e9.jpg\n",
      "[OK] Augmentation faite pour 09742abe-75cf-11f0-8d2a-e636fc4fc5e9.jpg\n",
      "[OK] Augmentation faite pour 099dbf51-75cf-11f0-a889-e636fc4fc5e9.jpg\n",
      "[OK] Augmentation faite pour 09cff667-75cf-11f0-86dc-e636fc4fc5e9.jpg\n",
      "[OK] Augmentation faite pour 09fcf743-75cf-11f0-89e1-e636fc4fc5e9.jpg\n",
      "[OK] Augmentation faite pour 0a21ac7a-75cf-11f0-9a67-e636fc4fc5e9.jpg\n",
      "[OK] Augmentation faite pour 0a4fefdb-75cf-11f0-a446-e636fc4fc5e9.jpg\n",
      "[OK] Augmentation faite pour 0a772c46-75cf-11f0-a573-e636fc4fc5e9.jpg\n",
      "[OK] Augmentation faite pour 0aa0a842-75cf-11f0-bd63-e636fc4fc5e9.jpg\n",
      "[OK] Augmentation faite pour 0acbb366-75cf-11f0-b42b-e636fc4fc5e9.jpg\n",
      "[OK] Augmentation faite pour 0af26164-75cf-11f0-934e-e636fc4fc5e9.jpg\n",
      "[OK] Augmentation faite pour 0b1abf6a-75cf-11f0-99a2-e636fc4fc5e9.jpg\n",
      "[OK] Augmentation faite pour 0b41c396-75cf-11f0-b7e8-e636fc4fc5e9.jpg\n",
      "[OK] Augmentation faite pour 0b6b3dc8-75cf-11f0-867c-e636fc4fc5e9.jpg\n",
      "[OK] Augmentation faite pour 0b94a6b0-75cf-11f0-b25a-e636fc4fc5e9.jpg\n",
      "[OK] Augmentation faite pour 0bbe369b-75cf-11f0-94c3-e636fc4fc5e9.jpg\n",
      "[OK] Augmentation faite pour 0becf2be-75cf-11f0-92ec-e636fc4fc5e9.jpg\n",
      "[OK] Augmentation faite pour 0c15ab88-75cf-11f0-a7db-e636fc4fc5e9.jpg\n",
      "[OK] Augmentation faite pour 0c420df4-75cf-11f0-8e1c-e636fc4fc5e9.jpg\n",
      "[OK] Augmentation faite pour 0c674ef2-75cf-11f0-94ad-e636fc4fc5e9.jpg\n",
      "[OK] Augmentation faite pour 0c90381e-75cf-11f0-af17-e636fc4fc5e9.jpg\n",
      "[OK] Augmentation faite pour 0cb73b7a-75cf-11f0-b63e-e636fc4fc5e9.jpg\n",
      "[OK] Augmentation faite pour 0ce0c6d4-75cf-11f0-8afd-e636fc4fc5e9.jpg\n",
      "[OK] Augmentation faite pour 0d0a49db-75cf-11f0-b808-e636fc4fc5e9.jpg\n",
      "[OK] Augmentation faite pour 0d475f13-75cf-11f0-b271-e636fc4fc5e9.jpg\n",
      "[OK] Augmentation faite pour 0d64a688-75cf-11f0-8177-e636fc4fc5e9.jpg\n",
      "[OK] Augmentation faite pour 0d895991-75cf-11f0-965b-e636fc4fc5e9.jpg\n",
      "[OK] Augmentation faite pour 0dac4f29-75cf-11f0-8eae-e636fc4fc5e9.jpg\n",
      "[OK] Augmentation faite pour 0dd013e6-75cf-11f0-8bfc-e636fc4fc5e9.jpg\n",
      "[OK] Augmentation faite pour 0df98397-75cf-11f0-85a8-e636fc4fc5e9.jpg\n",
      "[OK] Augmentation faite pour 0e20bf9d-75cf-11f0-8c12-e636fc4fc5e9.jpg\n",
      "[OK] Augmentation faite pour 0e4a12eb-75cf-11f0-afca-e636fc4fc5e9.jpg\n",
      "[OK] Augmentation faite pour 0e67217e-75cf-11f0-aa8a-e636fc4fc5e9.jpg\n",
      "[OK] Augmentation faite pour 0e8db9ce-75cf-11f0-9e79-e636fc4fc5e9.jpg\n",
      "[OK] Augmentation faite pour 0ebb07aa-75cf-11f0-a529-e636fc4fc5e9.jpg\n",
      "[OK] Augmentation faite pour 0edc711f-75cf-11f0-82bd-e636fc4fc5e9.jpg\n",
      "[OK] Augmentation faite pour 0f05bf34-75cf-11f0-9a02-e636fc4fc5e9.jpg\n",
      "[OK] Augmentation faite pour 0f2accdc-75cf-11f0-a90f-e636fc4fc5e9.jpg\n",
      "[OK] Augmentation faite pour 0f555e09-75cf-11f0-bb1c-e636fc4fc5e9.jpg\n",
      "[OK] Augmentation faite pour 0f7b9be3-75cf-11f0-9daf-e636fc4fc5e9.jpg\n",
      "[OK] Augmentation faite pour 0fa4c43b-75cf-11f0-a70a-e636fc4fc5e9.jpg\n",
      "[OK] Augmentation faite pour 0fce3c55-75cf-11f0-9600-e636fc4fc5e9.jpg\n",
      "[OK] Augmentation faite pour 0ff2dc70-75cf-11f0-b30a-e636fc4fc5e9.jpg\n",
      "[OK] Augmentation faite pour 147a24f1-75cf-11f0-b167-e636fc4fc5e9.jpg\n",
      "[OK] Augmentation faite pour 14a408d3-75cf-11f0-85a6-e636fc4fc5e9.jpg\n",
      "[OK] Augmentation faite pour 14cd8d80-75cf-11f0-af53-e636fc4fc5e9.jpg\n",
      "[OK] Augmentation faite pour 14f717dd-75cf-11f0-b6b8-e636fc4fc5e9.jpg\n",
      "[OK] Augmentation faite pour 152a5a0b-75cf-11f0-81f1-e636fc4fc5e9.jpg\n",
      "[OK] Augmentation faite pour 154ce223-75cf-11f0-ad50-e636fc4fc5e9.jpg\n",
      "[OK] Augmentation faite pour 157637e4-75cf-11f0-8624-e636fc4fc5e9.jpg\n",
      "[OK] Augmentation faite pour 159abf18-75cf-11f0-b6b4-e636fc4fc5e9.jpg\n",
      "[OK] Augmentation faite pour 15bcd0d7-75cf-11f0-a75e-e636fc4fc5e9.jpg\n",
      "[OK] Augmentation faite pour 15dceca6-75cf-11f0-af06-e636fc4fc5e9.jpg\n",
      "[OK] Augmentation faite pour 1602ab9d-75cf-11f0-9669-e636fc4fc5e9.jpg\n",
      "[OK] Augmentation faite pour 16285ded-75cf-11f0-bf73-e636fc4fc5e9.jpg\n",
      "[OK] Augmentation faite pour 1651df98-75cf-11f0-bc03-e636fc4fc5e9.jpg\n",
      "[OK] Augmentation faite pour 1679173e-75cf-11f0-b5a3-e636fc4fc5e9.jpg\n",
      "[OK] Augmentation faite pour 16a25536-75cf-11f0-aeac-e636fc4fc5e9.jpg\n",
      "[OK] Augmentation faite pour 16c6f0c3-75cf-11f0-8cf8-e636fc4fc5e9.jpg\n",
      "[OK] Augmentation faite pour 16eb6de1-75cf-11f0-aece-e636fc4fc5e9.jpg\n",
      "[OK] Augmentation faite pour 17178c53-75cf-11f0-b8bb-e636fc4fc5e9.jpg\n",
      "[OK] Augmentation faite pour 173e98a8-75cf-11f0-a5b1-e636fc4fc5e9.jpg\n",
      "[OK] Augmentation faite pour 17653524-75cf-11f0-9a61-e636fc4fc5e9.jpg\n",
      "[OK] Augmentation faite pour 178cbb46-75cf-11f0-9fe0-e636fc4fc5e9.jpg\n",
      "[OK] Augmentation faite pour 17b63ef6-75cf-11f0-9c2a-e636fc4fc5e9.jpg\n",
      "[OK] Augmentation faite pour 17dfe1af-75cf-11f0-aff6-e636fc4fc5e9.jpg\n",
      "[OK] Augmentation faite pour 18024f16-75cf-11f0-b254-e636fc4fc5e9.jpg\n",
      "[OK] Augmentation faite pour 1823f777-75cf-11f0-97ec-e636fc4fc5e9.jpg\n",
      "[OK] Augmentation faite pour 18475e83-75cf-11f0-8e65-e636fc4fc5e9.jpg\n",
      "[OK] Augmentation faite pour 18729a39-75cf-11f0-81a6-e636fc4fc5e9.jpg\n",
      "[OK] Augmentation faite pour 1896db0a-75cf-11f0-8fff-e636fc4fc5e9.jpg\n",
      "[OK] Augmentation faite pour 18be0b90-75cf-11f0-8359-e636fc4fc5e9.jpg\n",
      "[OK] Augmentation faite pour 18e51e54-75cf-11f0-8342-e636fc4fc5e9.jpg\n",
      "[OK] Augmentation faite pour 1909ba19-75cf-11f0-83a9-e636fc4fc5e9.jpg\n",
      "[OK] Augmentation faite pour 1935ad80-75cf-11f0-b6fc-e636fc4fc5e9.jpg\n",
      "[OK] Augmentation faite pour 195cb981-75cf-11f0-98ca-e636fc4fc5e9.jpg\n",
      "[OK] Augmentation faite pour 1981441c-75cf-11f0-9875-e636fc4fc5e9.jpg\n",
      "[OK] Augmentation faite pour 19a859e2-75cf-11f0-bed8-e636fc4fc5e9.jpg\n",
      "[OK] Augmentation faite pour 19cdd260-75cf-11f0-a517-e636fc4fc5e9.jpg\n",
      "[OK] Augmentation faite pour 19f66bbc-75cf-11f0-ba48-e636fc4fc5e9.jpg\n",
      "[OK] Augmentation faite pour 1a1ffd75-75cf-11f0-902f-e636fc4fc5e9.jpg\n",
      "[OK] Augmentation faite pour 1a472023-75cf-11f0-afc7-e636fc4fc5e9.jpg\n",
      "[OK] Augmentation faite pour 1a7095f0-75cf-11f0-ae7c-e636fc4fc5e9.jpg\n",
      "[OK] Augmentation faite pour 1a954542-75cf-11f0-a102-e636fc4fc5e9.jpg\n",
      "[OK] Augmentation faite pour 1ab78443-75cf-11f0-a532-e636fc4fc5e9.jpg\n",
      "[OK] Augmentation faite pour 1ade4993-75cf-11f0-8c8f-e636fc4fc5e9.jpg\n",
      "[OK] Augmentation faite pour 1b0c2bd3-75cf-11f0-a2f3-e636fc4fc5e9.jpg\n",
      "[OK] Augmentation faite pour 1b364e73-75cf-11f0-908f-e636fc4fc5e9.jpg\n",
      "[OK] Augmentation faite pour 1b5ba1ba-75cf-11f0-9be9-e636fc4fc5e9.jpg\n",
      "[OK] Augmentation faite pour 1b7f76b0-75cf-11f0-b855-e636fc4fc5e9.jpg\n",
      "[OK] Augmentation faite pour 1ba1a803-75cf-11f0-979d-e636fc4fc5e9.jpg\n",
      "[OK] Augmentation faite pour 1bbec1ff-75cf-11f0-9bf4-e636fc4fc5e9.jpg\n",
      "[OK] Augmentation faite pour 1bdbef7e-75cf-11f0-93a3-e636fc4fc5e9.jpg\n",
      "[OK] Augmentation faite pour 1bf9a1e8-75cf-11f0-b24a-e636fc4fc5e9.jpg\n",
      "[OK] Augmentation faite pour 1c185dd1-75cf-11f0-a675-e636fc4fc5e9.jpg\n",
      "[OK] Augmentation faite pour 1c3b8290-75cf-11f0-a33d-e636fc4fc5e9.jpg\n",
      "[OK] Augmentation faite pour 1c603185-75cf-11f0-97cf-e636fc4fc5e9.jpg\n",
      "[OK] Augmentation faite pour 1c87b15a-75cf-11f0-a631-e636fc4fc5e9.jpg\n",
      "[OK] Augmentation faite pour 1ca755f4-75cf-11f0-b1b6-e636fc4fc5e9.jpg\n",
      "[OK] Augmentation faite pour 1ccb8df2-75cf-11f0-ab08-e636fc4fc5e9.jpg\n",
      "[OK] Augmentation faite pour 1cedc5bb-75cf-11f0-98a6-e636fc4fc5e9.jpg\n",
      "[OK] Augmentation faite pour 1d0d8a90-75cf-11f0-b488-e636fc4fc5e9.jpg\n",
      "[OK] Augmentation faite pour 1d3085d4-75cf-11f0-9c4e-e636fc4fc5e9.jpg\n",
      "[OK] Augmentation faite pour 1d592610-75cf-11f0-98ad-e636fc4fc5e9.jpg\n",
      "[OK] Augmentation faite pour 1d7b583d-75cf-11f0-acac-e636fc4fc5e9.jpg\n",
      "[OK] Augmentation faite pour 220cf590-75cf-11f0-a54c-e636fc4fc5e9.jpg\n",
      "[OK] Augmentation faite pour 222f1fa8-75cf-11f0-9ba0-e636fc4fc5e9.jpg\n",
      "[OK] Augmentation faite pour 225045c3-75cf-11f0-9087-e636fc4fc5e9.jpg\n",
      "[OK] Augmentation faite pour 2276f4a1-75cf-11f0-a826-e636fc4fc5e9.jpg\n",
      "[OK] Augmentation faite pour 229a6e82-75cf-11f0-93bf-e636fc4fc5e9.jpg\n",
      "[OK] Augmentation faite pour 22bf114e-75cf-11f0-8cd7-e636fc4fc5e9.jpg\n",
      "[OK] Augmentation faite pour 22e3a288-75cf-11f0-a7f1-e636fc4fc5e9.jpg\n",
      "[OK] Augmentation faite pour 230cd8f1-75cf-11f0-8333-e636fc4fc5e9.jpg\n",
      "[OK] Augmentation faite pour 233109da-75cf-11f0-8917-e636fc4fc5e9.jpg\n",
      "[OK] Augmentation faite pour 235b6e51-75cf-11f0-8cc5-e636fc4fc5e9.jpg\n",
      "[OK] Augmentation faite pour 237c70cc-75cf-11f0-8cf1-e636fc4fc5e9.jpg\n",
      "[OK] Augmentation faite pour 239fc701-75cf-11f0-918d-e636fc4fc5e9.jpg\n",
      "[OK] Augmentation faite pour 23c1ee26-75cf-11f0-af25-e636fc4fc5e9.jpg\n",
      "[OK] Augmentation faite pour 23e18ffd-75cf-11f0-ba38-e636fc4fc5e9.jpg\n",
      "[OK] Augmentation faite pour 2405b914-75cf-11f0-acc7-e636fc4fc5e9.jpg\n",
      "[OK] Augmentation faite pour 242a2e31-75cf-11f0-97be-e636fc4fc5e9.jpg\n",
      "[OK] Augmentation faite pour 244d0720-75cf-11f0-b8d2-e636fc4fc5e9.jpg\n",
      "[OK] Augmentation faite pour 246f24e5-75cf-11f0-9349-e636fc4fc5e9.jpg\n",
      "[OK] Augmentation faite pour 248ec3ca-75cf-11f0-b4f9-e636fc4fc5e9.jpg\n",
      "[OK] Augmentation faite pour 24acd654-75cf-11f0-b9e9-e636fc4fc5e9.jpg\n",
      "[OK] Augmentation faite pour 24d0dd8e-75cf-11f0-88e8-e636fc4fc5e9.jpg\n",
      "[OK] Augmentation faite pour 24f5665a-75cf-11f0-af96-e636fc4fc5e9.jpg\n",
      "[OK] Augmentation faite pour 251caaaa-75cf-11f0-beea-e636fc4fc5e9.jpg\n",
      "[OK] Augmentation faite pour 254188b5-75cf-11f0-af90-e636fc4fc5e9.jpg\n",
      "[OK] Augmentation faite pour 2564cb20-75cf-11f0-bb35-e636fc4fc5e9.jpg\n",
      "[OK] Augmentation faite pour 2587de0c-75cf-11f0-a8f5-e636fc4fc5e9.jpg\n",
      "[OK] Augmentation faite pour 25ac813b-75cf-11f0-898d-e636fc4fc5e9.jpg\n",
      "[OK] Augmentation faite pour 25d39287-75cf-11f0-b5b5-e636fc4fc5e9.jpg\n",
      "[OK] Augmentation faite pour 25f853c1-75cf-11f0-a185-e636fc4fc5e9.jpg\n",
      "[OK] Augmentation faite pour 261eab93-75cf-11f0-9938-e636fc4fc5e9.jpg\n",
      "[OK] Augmentation faite pour 26459854-75cf-11f0-b9ce-e636fc4fc5e9.jpg\n",
      "[OK] Augmentation faite pour 2668a889-75cf-11f0-937e-e636fc4fc5e9.jpg\n",
      "[OK] Augmentation faite pour 268d3a25-75cf-11f0-8e1c-e636fc4fc5e9.jpg\n",
      "[OK] Augmentation faite pour 26bd37da-75cf-11f0-bce5-e636fc4fc5e9.jpg\n",
      "[OK] Augmentation faite pour 26e94dd5-75cf-11f0-805d-e636fc4fc5e9.jpg\n",
      "[OK] Augmentation faite pour 270c16a4-75cf-11f0-9d4f-e636fc4fc5e9.jpg\n",
      "[OK] Augmentation faite pour 272f4331-75cf-11f0-9a6d-e636fc4fc5e9.jpg\n",
      "[OK] Augmentation faite pour 27530a05-75cf-11f0-8aa3-e636fc4fc5e9.jpg\n",
      "[OK] Augmentation faite pour 27729716-75cf-11f0-93fc-e636fc4fc5e9.jpg\n",
      "[OK] Augmentation faite pour 27909103-75cf-11f0-a3dc-e636fc4fc5e9.jpg\n",
      "[OK] Augmentation faite pour 27b0060a-75cf-11f0-a533-e636fc4fc5e9.jpg\n",
      "[OK] Augmentation faite pour 27d1e44a-75cf-11f0-9ca1-e636fc4fc5e9.jpg\n",
      "[OK] Augmentation faite pour 27f1a8b2-75cf-11f0-873b-e636fc4fc5e9.jpg\n",
      "[OK] Augmentation faite pour 2813ca41-75cf-11f0-b1e9-e636fc4fc5e9.jpg\n",
      "[OK] Augmentation faite pour 283096dc-75cf-11f0-9805-e636fc4fc5e9.jpg\n",
      "[OK] Augmentation faite pour 2852cb3e-75cf-11f0-8e56-e636fc4fc5e9.jpg\n",
      "[OK] Augmentation faite pour 287a6f79-75cf-11f0-a18e-e636fc4fc5e9.jpg\n",
      "[OK] Augmentation faite pour 289f1413-75cf-11f0-8fe5-e636fc4fc5e9.jpg\n",
      "[OK] Augmentation faite pour 28c3ce77-75cf-11f0-9929-e636fc4fc5e9.jpg\n",
      "[OK] Augmentation faite pour 28e5d8d0-75cf-11f0-894c-e636fc4fc5e9.jpg\n",
      "[OK] Augmentation faite pour 290a7fd6-75cf-11f0-a4b5-e636fc4fc5e9.jpg\n",
      "[OK] Augmentation faite pour 292cb29c-75cf-11f0-8a08-e636fc4fc5e9.jpg\n",
      "[OK] Augmentation faite pour 294c505c-75cf-11f0-9720-e636fc4fc5e9.jpg\n",
      "[OK] Augmentation faite pour 296e769d-75cf-11f0-bbf4-e636fc4fc5e9.jpg\n",
      "[OK] Augmentation faite pour 299a865d-75cf-11f0-a5b8-e636fc4fc5e9.jpg\n",
      "[OK] Augmentation faite pour 29b9a52f-75cf-11f0-80f8-e636fc4fc5e9.jpg\n",
      "[OK] Augmentation faite pour 29e3a3d9-75cf-11f0-bb55-e636fc4fc5e9.jpg\n",
      "[OK] Augmentation faite pour 2a085495-75cf-11f0-81c0-e636fc4fc5e9.jpg\n",
      "[OK] Augmentation faite pour 2a2d0e31-75cf-11f0-8b49-e636fc4fc5e9.jpg\n",
      "[OK] Augmentation faite pour 2a4f3364-75cf-11f0-8216-e636fc4fc5e9.jpg\n",
      "[OK] Augmentation faite pour 2a73b263-75cf-11f0-bf7b-e636fc4fc5e9.jpg\n",
      "[OK] Augmentation faite pour 2a95f554-75cf-11f0-a30e-e636fc4fc5e9.jpg\n",
      "[OK] Augmentation faite pour 2ab5bb6b-75cf-11f0-b31e-e636fc4fc5e9.jpg\n",
      "[OK] Augmentation faite pour 2ae16faf-75cf-11f0-90f8-e636fc4fc5e9.jpg\n",
      "[OK] Augmentation faite pour 2b0333be-75cf-11f0-963e-e636fc4fc5e9.jpg\n",
      "[OK] Augmentation faite pour 2b2abf65-75cf-11f0-88e2-e636fc4fc5e9.jpg\n",
      "[OK] Augmentation faite pour 2b525a5b-75cf-11f0-95da-e636fc4fc5e9.jpg\n",
      "[OK] Augmentation faite pour 2b7900b6-75cf-11f0-b4d5-e636fc4fc5e9.jpg\n",
      "[OK] Augmentation faite pour 2bb88779-75cf-11f0-8b43-e636fc4fc5e9.jpg\n",
      "[OK] Augmentation faite pour 2bd9c1d2-75cf-11f0-9b50-e636fc4fc5e9.jpg\n",
      "[OK] Augmentation faite pour 2bfcfd77-75cf-11f0-98ea-e636fc4fc5e9.jpg\n",
      "[OK] Augmentation faite pour 2c23cb41-75cf-11f0-90c1-e636fc4fc5e9.jpg\n",
      "[OK] Augmentation faite pour 2c4d5d3f-75cf-11f0-af9f-e636fc4fc5e9.jpg\n",
      "[OK] Augmentation faite pour 2c80adfb-75cf-11f0-bd46-e636fc4fc5e9.jpg\n",
      "[OK] Augmentation faite pour 2cb8d069-75cf-11f0-ae01-e636fc4fc5e9.jpg\n",
      "[OK] Augmentation faite pour 2cdc78bf-75cf-11f0-a6e9-e636fc4fc5e9.jpg\n",
      "[OK] Augmentation faite pour 2d046f6f-75cf-11f0-8e6b-e636fc4fc5e9.jpg\n",
      "[OK] Augmentation faite pour 2d291a17-75cf-11f0-901f-e636fc4fc5e9.jpg\n",
      "[OK] Augmentation faite pour 2d57d846-75cf-11f0-bc6c-e636fc4fc5e9.jpg\n",
      "[OK] Augmentation faite pour 2d79beca-75cf-11f0-a8f8-e636fc4fc5e9.jpg\n",
      "[OK] Augmentation faite pour 2da05d6a-75cf-11f0-9e85-e636fc4fc5e9.jpg\n",
      "[OK] Augmentation faite pour 2dc7c9d4-75cf-11f0-b5fc-e636fc4fc5e9.jpg\n",
      "[OK] Augmentation faite pour 2fc3c8d2-75cf-11f0-afb1-e636fc4fc5e9.jpg\n",
      "[OK] Augmentation faite pour 2fe355aa-75cf-11f0-9b16-e636fc4fc5e9.jpg\n",
      "[OK] Augmentation faite pour 3007fbb0-75cf-11f0-99d0-e636fc4fc5e9.jpg\n",
      "[OK] Augmentation faite pour 3033f2fd-75cf-11f0-8f29-e636fc4fc5e9.jpg\n",
      "[OK] Augmentation faite pour 305894a7-75cf-11f0-8648-e636fc4fc5e9.jpg\n",
      "[OK] Augmentation faite pour 307d7cf9-75cf-11f0-be38-e636fc4fc5e9.jpg\n",
      "[OK] Augmentation faite pour 30a68a5f-75cf-11f0-a388-e636fc4fc5e9.jpg\n",
      "[OK] Augmentation faite pour 30d2b369-75cf-11f0-aa4f-e636fc4fc5e9.jpg\n",
      "[OK] Augmentation faite pour 30fc1ef0-75cf-11f0-a718-e636fc4fc5e9.jpg\n",
      "[OK] Augmentation faite pour 311bf937-75cf-11f0-b4fa-e636fc4fc5e9.jpg\n",
      "[OK] Augmentation faite pour 314966c1-75cf-11f0-9d7a-e636fc4fc5e9.jpg\n",
      "[OK] Augmentation faite pour 31763b7a-75cf-11f0-8f1c-e636fc4fc5e9.jpg\n",
      "[OK] Augmentation faite pour 31a4879e-75cf-11f0-a34a-e636fc4fc5e9.jpg\n",
      "[OK] Augmentation faite pour 31cba66a-75cf-11f0-bcdd-e636fc4fc5e9.jpg\n",
      "[OK] Augmentation faite pour 31f53ce9-75cf-11f0-a053-e636fc4fc5e9.jpg\n",
      "[OK] Augmentation faite pour 3219c7cc-75cf-11f0-b215-e636fc4fc5e9.jpg\n",
      "[OK] Augmentation faite pour 3242d085-75cf-11f0-895b-e636fc4fc5e9.jpg\n",
      "[OK] Augmentation faite pour 326c2568-75cf-11f0-afea-e636fc4fc5e9.jpg\n",
      "[OK] Augmentation faite pour 3295363d-75cf-11f0-b663-e636fc4fc5e9.jpg\n",
      "[OK] Augmentation faite pour 32c25113-75cf-11f0-b7cd-e636fc4fc5e9.jpg\n",
      "[OK] Augmentation faite pour 32ee1a6b-75cf-11f0-9b36-e636fc4fc5e9.jpg\n",
      "[OK] Augmentation faite pour 3319b729-75cf-11f0-bc52-e636fc4fc5e9.jpg\n",
      "[OK] Augmentation faite pour 33460231-75cf-11f0-950f-e636fc4fc5e9.jpg\n",
      "[OK] Augmentation faite pour 336fa4d6-75cf-11f0-8e72-e636fc4fc5e9.jpg\n",
      "[OK] Augmentation faite pour 33969fc6-75cf-11f0-bd2b-e636fc4fc5e9.jpg\n",
      "[OK] Augmentation faite pour 33c03001-75cf-11f0-bd43-e636fc4fc5e9.jpg\n",
      "[OK] Augmentation faite pour 33e4eb2d-75cf-11f0-a759-e636fc4fc5e9.jpg\n",
      "[OK] Augmentation faite pour 3410c70b-75cf-11f0-b459-e636fc4fc5e9.jpg\n",
      "[OK] Augmentation faite pour 34355082-75cf-11f0-ad8b-e636fc4fc5e9.jpg\n",
      "[OK] Augmentation faite pour 3459f06d-75cf-11f0-a5b3-e636fc4fc5e9.jpg\n",
      "[OK] Augmentation faite pour 347cb15d-75cf-11f0-a416-e636fc4fc5e9.jpg\n",
      "[OK] Augmentation faite pour 34a5b40e-75cf-11f0-9db5-e636fc4fc5e9.jpg\n",
      "[OK] Augmentation faite pour 34cc0d61-75cf-11f0-8822-e636fc4fc5e9.jpg\n",
      "[OK] Augmentation faite pour 34f65b5f-75cf-11f0-9074-e636fc4fc5e9.jpg\n",
      "[OK] Augmentation faite pour 3522708f-75cf-11f0-bef9-e636fc4fc5e9.jpg\n",
      "[OK] Augmentation faite pour 355cd3a9-75cf-11f0-a832-e636fc4fc5e9.jpg\n",
      "[OK] Augmentation faite pour 3599cf59-75cf-11f0-858c-e636fc4fc5e9.jpg\n",
      "[OK] Augmentation faite pour 35ecf056-75cf-11f0-9e4a-e636fc4fc5e9.jpg\n",
      "[OK] Augmentation faite pour 3629e2e7-75cf-11f0-b8f2-e636fc4fc5e9.jpg\n",
      "[OK] Augmentation faite pour 36510065-75cf-11f0-ab75-e636fc4fc5e9.jpg\n",
      "[OK] Augmentation faite pour 367a70d0-75cf-11f0-9de8-e636fc4fc5e9.jpg\n",
      "[OK] Augmentation faite pour 36a9225a-75cf-11f0-942c-e636fc4fc5e9.jpg\n",
      "[OK] Augmentation faite pour 36cb26ca-75cf-11f0-b2e9-e636fc4fc5e9.jpg\n",
      "[OK] Augmentation faite pour 36efb802-75cf-11f0-9e7d-e636fc4fc5e9.jpg\n",
      "[OK] Augmentation faite pour 3722f748-75cf-11f0-b158-e636fc4fc5e9.jpg\n",
      "[OK] Augmentation faite pour 3748a650-75cf-11f0-97f9-e636fc4fc5e9.jpg\n",
      "[OK] Augmentation faite pour 376a88ae-75cf-11f0-a29c-e636fc4fc5e9.jpg\n",
      "[OK] Augmentation faite pour 379d162d-75cf-11f0-97b3-e636fc4fc5e9.jpg\n",
      "[OK] Augmentation faite pour 37b7f2b1-75cf-11f0-8f33-e636fc4fc5e9.jpg\n",
      "[OK] Augmentation faite pour 37dbf22c-75cf-11f0-9f33-e636fc4fc5e9.jpg\n",
      "[OK] Augmentation faite pour 3808793a-75cf-11f0-abbb-e636fc4fc5e9.jpg\n",
      "[OK] Augmentation faite pour 3831f6ff-75cf-11f0-9535-e636fc4fc5e9.jpg\n",
      "[OK] Augmentation faite pour 3855eae2-75cf-11f0-b610-e636fc4fc5e9.jpg\n",
      "[OK] Augmentation faite pour 38877871-75cf-11f0-b1b4-e636fc4fc5e9.jpg\n",
      "[OK] Augmentation faite pour 38ac60b9-75cf-11f0-a9f0-e636fc4fc5e9.jpg\n",
      "[OK] Augmentation faite pour 38c95f14-75cf-11f0-a866-e636fc4fc5e9.jpg\n",
      "[OK] Augmentation faite pour 38f2b83c-75cf-11f0-a33a-e636fc4fc5e9.jpg\n",
      "[OK] Augmentation faite pour 391dd400-75cf-11f0-b6a5-e636fc4fc5e9.jpg\n",
      "[OK] Augmentation faite pour 394ad52c-75cf-11f0-9f88-e636fc4fc5e9.jpg\n",
      "[OK] Augmentation faite pour 3971d20f-75cf-11f0-8706-e636fc4fc5e9.jpg\n",
      "[OK] Augmentation faite pour 39966dcb-75cf-11f0-a6c0-e636fc4fc5e9.jpg\n",
      "[OK] Augmentation faite pour 39b96059-75cf-11f0-a853-e636fc4fc5e9.jpg\n",
      "[OK] Augmentation faite pour 39dd41ec-75cf-11f0-b6a0-e636fc4fc5e9.jpg\n",
      "[OK] Augmentation faite pour 3a01cb6c-75cf-11f0-b69a-e636fc4fc5e9.jpg\n",
      "[OK] Augmentation faite pour 3a23f382-75cf-11f0-bc94-e636fc4fc5e9.jpg\n",
      "[OK] Augmentation faite pour 3a488ee4-75cf-11f0-bf3c-e636fc4fc5e9.jpg\n",
      "[OK] Augmentation faite pour 3a6d4bfe-75cf-11f0-b72a-e636fc4fc5e9.jpg\n",
      "[OK] Augmentation faite pour 3a8b6753-75cf-11f0-b181-e636fc4fc5e9.jpg\n",
      "[OK] Augmentation faite pour 3aaa65d0-75cf-11f0-aa9b-e636fc4fc5e9.jpg\n",
      "[OK] Augmentation faite pour 3ad1ad10-75cf-11f0-ba91-e636fc4fc5e9.jpg\n",
      "✅ Augmentation terminée !\n"
     ]
    }
   ],
   "source": [
    "# if __name__ == \"__main__\":\n",
    "#     print(\"📸 Début augmentation des images...\")\n",
    "#     augment_images_in_folder(ANC_PATH, augment_times=5)\n",
    "#     augment_images_in_folder(POS_PATH, augment_times=5)\n",
    "#     print(\"✅ Augmentation terminée !\")"
   ]
  },
  {
   "cell_type": "code",
   "execution_count": 11,
   "id": "8753a43e",
   "metadata": {},
   "outputs": [],
   "source": [
    "from PIL import Image"
   ]
  },
  {
   "cell_type": "code",
   "execution_count": null,
   "id": "bf5654cd",
   "metadata": {},
   "outputs": [],
   "source": [
    "# def apercu_augmentation(image_path):\n",
    "#     \"\"\"Affiche l'image originale et une version augmentée côte à côte\"\"\"\n",
    "#     img = Image.open(image_path).convert('RGB')\n",
    "\n",
    "#     # Applique une seule fois la transformation définie\n",
    "#     augmented_img = augment(img)\n",
    "#     augmented_img = transforms.ToPILImage()(augmented_img)\n",
    "\n",
    "#     # Affichage\n",
    "#     fig, axes = plt.subplots(1, 2, figsize=(8, 4))\n",
    "#     axes[0].imshow(img)\n",
    "#     axes[0].set_title(\"Originale\")\n",
    "#     axes[0].axis(\"off\")\n",
    "\n",
    "#     axes[1].imshow(augmented_img)\n",
    "#     axes[1].set_title(\"Augmentée\")\n",
    "#     axes[1].axis(\"off\")\n",
    "\n",
    "#     plt.tight_layout()\n",
    "#     plt.show()"
   ]
  },
  {
   "cell_type": "code",
   "execution_count": null,
   "id": "7c5ff83c",
   "metadata": {},
   "outputs": [],
   "source": [
    "# # Exemple : aperçu sur la première image des anchors\n",
    "# exemple_img = os.path.join(ANC_PATH, os.listdir(ANC_PATH)[0])\n",
    "# apercu_augmentation(exemple_img)"
   ]
  },
  {
   "cell_type": "markdown",
   "id": "8788a472",
   "metadata": {},
   "source": [
    "**Load / Preprocess Images**"
   ]
  },
  {
   "cell_type": "code",
   "execution_count": 12,
   "id": "c29af617",
   "metadata": {},
   "outputs": [],
   "source": [
    "from glob import glob"
   ]
  },
  {
   "cell_type": "code",
   "execution_count": 13,
   "id": "83709715",
   "metadata": {},
   "outputs": [],
   "source": [
    "# Récupère les chemins vers les fichiers .jpg\n",
    "anchor_paths = glob(os.path.join(ANC_PATH, '*.jpg'))[:3000]\n",
    "positive_paths = glob(os.path.join(POS_PATH, '*.jpg'))[:3000]\n",
    "negative_paths = glob(os.path.join(NEG_PATH, '*.jpg'))[:3000]"
   ]
  },
  {
   "cell_type": "code",
   "execution_count": 14,
   "id": "f4067803",
   "metadata": {},
   "outputs": [
    {
     "name": "stdout",
     "output_type": "stream",
     "text": [
      "data\\anchor\\0034f184-75ce-11f0-b39f-e636fc4fc5e9.jpg\n"
     ]
    }
   ],
   "source": [
    "# Affiche un chemin pour test\n",
    "print(anchor_paths[0])"
   ]
  },
  {
   "cell_type": "markdown",
   "id": "100556ba",
   "metadata": {},
   "source": [
    "**Preprocessing**"
   ]
  },
  {
   "cell_type": "code",
   "execution_count": 15,
   "id": "b0977b72",
   "metadata": {},
   "outputs": [],
   "source": [
    "preprocess = transforms.Compose([\n",
    "    transforms.Resize((100, 100)),\n",
    "    transforms.ToTensor(),  # Convertit en [0, 1] automatiquement\n",
    "])"
   ]
  },
  {
   "cell_type": "code",
   "execution_count": null,
   "id": "14aa4b16",
   "metadata": {},
   "outputs": [],
   "source": [
    "# img_path = os.path.join('data', 'anchor', '0034f184-75ce-11f0-b39f-e636fc4fc5e9.jpg')\n",
    "# img = Image.open(img_path).convert('RGB')\n",
    "# img = preprocess(img)"
   ]
  },
  {
   "cell_type": "code",
   "execution_count": null,
   "id": "43d30519",
   "metadata": {},
   "outputs": [
    {
     "name": "stdout",
     "output_type": "stream",
     "text": [
      "torch.Size([3, 100, 100])\n",
      "0.007843137718737125\n",
      "1.0\n"
     ]
    }
   ],
   "source": [
    "# # Vérifier que les pixels sont bien entre 0 et 1\n",
    "# print(img.shape)  # Résultat : torch.Size([3, 100, 100])\n",
    "# print(img.min().item())  # Résultat : 0.0\n",
    "# print(img.max().item())  # Résultat : 1.0 (ou proche)"
   ]
  },
  {
   "cell_type": "code",
   "execution_count": null,
   "id": "fb1afa53",
   "metadata": {},
   "outputs": [],
   "source": [
    "# plt.imshow(img.permute(1, 2, 0))  # Permute pour afficher en RGB\n",
    "# # plt.imshow(img.numpy())\n",
    "# plt.title(\"Aperçu de l'image\")\n",
    "# plt.show()"
   ]
  },
  {
   "cell_type": "markdown",
   "id": "8c336bc4",
   "metadata": {},
   "source": [
    "**Create Dataset**"
   ]
  },
  {
   "cell_type": "code",
   "execution_count": null,
   "id": "7ebc35d2",
   "metadata": {},
   "outputs": [],
   "source": [
    "# # (anchor, positive) => 1,1,1,1,1\n",
    "# # (anchor, negative) => 0,0,0,0,0\n",
    "# # Labels\n",
    "# positive_labels = [1] * len(anchor_paths)\n",
    "# negative_labels = [0] * len(anchor_paths)"
   ]
  },
  {
   "cell_type": "code",
   "execution_count": null,
   "id": "bc6a2a14",
   "metadata": {},
   "outputs": [],
   "source": [
    "# # Création des tuples : (anchor, other, label)\n",
    "# positives = list(zip(anchor_paths, positive_paths, positive_labels))\n",
    "# negatives = list(zip(anchor_paths, negative_paths, negative_labels))"
   ]
  },
  {
   "cell_type": "code",
   "execution_count": null,
   "id": "5cff3da1",
   "metadata": {},
   "outputs": [],
   "source": [
    "# # Fusion des deux types de paires\n",
    "# data = positives + negatives"
   ]
  },
  {
   "cell_type": "code",
   "execution_count": null,
   "id": "bcdccff9",
   "metadata": {},
   "outputs": [
    {
     "name": "stdout",
     "output_type": "stream",
     "text": [
      "('data\\\\anchor\\\\0034f184-75ce-11f0-b39f-e636fc4fc5e9.jpg', 'data\\\\positive\\\\066be7b7-75cf-11f0-9094-e636fc4fc5e9.jpg', 1)\n"
     ]
    }
   ],
   "source": [
    "# # Exemple : affichage d’une paire\n",
    "# example = data[0]\n",
    "# print(example)"
   ]
  },
  {
   "cell_type": "markdown",
   "id": "7c6cf3a6",
   "metadata": {},
   "source": [
    "**Dataset Random**"
   ]
  },
  {
   "cell_type": "code",
   "execution_count": null,
   "id": "63aed8cd",
   "metadata": {},
   "outputs": [],
   "source": [
    "# anchor_dir = 'data/anchor'\n",
    "# positives_dir = 'data/positive'\n",
    "# negatives_dir = 'data/negative'"
   ]
  },
  {
   "cell_type": "code",
   "execution_count": null,
   "id": "5cf7ae09",
   "metadata": {},
   "outputs": [],
   "source": [
    "# anchors = os.listdir(anchor_dir)\n",
    "# positives = os.listdir(positives_dir)\n",
    "# negatives = os.listdir(negatives_dir)"
   ]
  },
  {
   "cell_type": "code",
   "execution_count": null,
   "id": "6c7aa293",
   "metadata": {},
   "outputs": [],
   "source": [
    "# num_pairs = 3000\n",
    "\n",
    "# pairs = []"
   ]
  },
  {
   "cell_type": "code",
   "execution_count": null,
   "id": "20910097",
   "metadata": {},
   "outputs": [],
   "source": [
    "# # Paires positives\n",
    "# for _ in range(num_pairs):\n",
    "#     a = random.choice(anchors)\n",
    "#     p = random.choice(positives)\n",
    "#     pairs.append([f'{anchor_dir}/{a}', f'{positives_dir}/{p}', 1])"
   ]
  },
  {
   "cell_type": "code",
   "execution_count": null,
   "id": "7a3fc43f",
   "metadata": {},
   "outputs": [],
   "source": [
    "# # Paires négatives\n",
    "# for _ in range(num_pairs):\n",
    "#     a = random.choice(anchors)\n",
    "#     n = random.choice(negatives)\n",
    "#     pairs.append([f'{anchor_dir}/{a}', f'{negatives_dir}/{n}', 0])"
   ]
  },
  {
   "cell_type": "code",
   "execution_count": null,
   "id": "5881c3d1",
   "metadata": {},
   "outputs": [],
   "source": [
    "# # Mélange\n",
    "# random.shuffle(pairs)"
   ]
  },
  {
   "cell_type": "code",
   "execution_count": null,
   "id": "12a9885e",
   "metadata": {},
   "outputs": [
    {
     "name": "stdout",
     "output_type": "stream",
     "text": [
      "['data/anchor/0f6b3073-75d1-11f0-9880-e636fc4fc5e9.jpg', 'data/positive/11b78495-75d1-11f0-a0df-e636fc4fc5e9.jpg', 1]\n"
     ]
    }
   ],
   "source": [
    "# example = pairs[0]\n",
    "# print(example)  # Affiche la première paire pour vérification"
   ]
  },
  {
   "cell_type": "markdown",
   "id": "7a06505e",
   "metadata": {},
   "source": [
    "**Build / Train / Test Partition**"
   ]
  },
  {
   "cell_type": "code",
   "execution_count": null,
   "id": "7c868cb2",
   "metadata": {},
   "outputs": [],
   "source": [
    "# def preprocess_twin(path1, path2, label, transform):\n",
    "#     img1 = Image.open(path1).convert(\"RGB\")\n",
    "#     img2 = Image.open(path2).convert(\"RGB\")\n",
    "#     return transform(img1), transform(img2), torch.tensor(label, dtype=torch.float32)"
   ]
  },
  {
   "cell_type": "code",
   "execution_count": null,
   "id": "f6e26847",
   "metadata": {},
   "outputs": [],
   "source": [
    "# img1, img2, label = preprocess_twin(*example, transform=preprocess)\n",
    "\n",
    "# # Affichage\n",
    "# plt.imshow(transforms.ToPILImage()(img2))\n",
    "# plt.axis('off')\n",
    "# plt.show()\n",
    "\n",
    "# print(label.item())  # 1.0 ou 0.0"
   ]
  },
  {
   "cell_type": "code",
   "execution_count": 32,
   "id": "c6c6c673",
   "metadata": {},
   "outputs": [],
   "source": [
    "from torch.utils.data import Dataset"
   ]
  },
  {
   "cell_type": "code",
   "execution_count": 33,
   "id": "f9a4fc1a",
   "metadata": {},
   "outputs": [],
   "source": [
    "class SiameseDataset(Dataset):\n",
    "    def __init__(self, pairs, transform=None):\n",
    "        self.pairs = pairs\n",
    "        self.transform = transform\n",
    "\n",
    "    def __len__(self):\n",
    "        return len(self.pairs)\n",
    "\n",
    "    def __getitem__(self, idx):\n",
    "        path1, path2, label = self.pairs[idx]\n",
    "        return preprocess_twin(path1, path2, label, self.transform)"
   ]
  },
  {
   "cell_type": "code",
   "execution_count": 34,
   "id": "9bb2f555",
   "metadata": {},
   "outputs": [],
   "source": [
    "from torch.utils.data import DataLoader, random_split"
   ]
  },
  {
   "cell_type": "code",
   "execution_count": null,
   "id": "bedc7075",
   "metadata": {},
   "outputs": [],
   "source": [
    "# # Création du dataset complet\n",
    "# full_dataset = SiameseDataset(pairs, transform=preprocess)"
   ]
  },
  {
   "cell_type": "code",
   "execution_count": null,
   "id": "bbfc1d09",
   "metadata": {},
   "outputs": [],
   "source": [
    "# # Split 70/30\n",
    "# train_size = int(0.7 * len(full_dataset))\n",
    "# test_size = len(full_dataset) - train_size\n",
    "# train_dataset, test_dataset = random_split(full_dataset, [train_size, test_size])"
   ]
  },
  {
   "cell_type": "code",
   "execution_count": null,
   "id": "5f0ef152",
   "metadata": {},
   "outputs": [],
   "source": [
    "# # Dataloaders\n",
    "# train_loader = DataLoader(train_dataset, batch_size=16, shuffle=True, num_workers=0)\n",
    "# test_loader  = DataLoader(test_dataset, batch_size=16, shuffle=False, num_workers=0)"
   ]
  },
  {
   "cell_type": "code",
   "execution_count": null,
   "id": "3b5c470b",
   "metadata": {},
   "outputs": [
    {
     "name": "stdout",
     "output_type": "stream",
     "text": [
      "torch.Size([3, 100, 100]) torch.Size([3, 100, 100]) tensor(0.)\n"
     ]
    }
   ],
   "source": [
    "# # Teste un échantillon du dataset sans DataLoader\n",
    "# img1, img2, label = train_dataset[0]\n",
    "# print(img1.shape, img2.shape, label)"
   ]
  },
  {
   "cell_type": "code",
   "execution_count": null,
   "id": "a70166b0",
   "metadata": {},
   "outputs": [
    {
     "name": "stdout",
     "output_type": "stream",
     "text": [
      "Image 1 batch shape : torch.Size([16, 3, 100, 100])\n",
      "Image 2 batch shape : torch.Size([16, 3, 100, 100])\n",
      "Labels shape : torch.Size([16])\n"
     ]
    }
   ],
   "source": [
    "# # Test DataLoader\n",
    "# batch = next(iter(train_loader))\n",
    "# img1_batch, img2_batch, labels_batch = batch\n",
    "\n",
    "# print(\"Image 1 batch shape :\", img1_batch.shape)  # [16, 3, 100, 100]\n",
    "# print(\"Image 2 batch shape :\", img2_batch.shape)  # [16, 3, 100, 100]\n",
    "# print(\"Labels shape :\", labels_batch.shape)       # [16]"
   ]
  },
  {
   "cell_type": "code",
   "execution_count": null,
   "id": "4e11b3d3",
   "metadata": {},
   "outputs": [],
   "source": [
    "# # Affichage d'un exemple\n",
    "# plt.subplot(1, 2, 1)\n",
    "# plt.imshow(img1_batch[0].permute(1, 2, 0))\n",
    "# plt.title(f\"Image 1 - Label : {labels_batch[0].item()}\")\n",
    "\n",
    "# plt.subplot(1, 2, 2)\n",
    "# plt.imshow(img2_batch[0].permute(1, 2, 0))\n",
    "# plt.title(\"Image 2\")\n",
    "# plt.show()"
   ]
  },
  {
   "cell_type": "markdown",
   "id": "479e8938",
   "metadata": {},
   "source": [
    "**Embedding Layer**"
   ]
  },
  {
   "cell_type": "code",
   "execution_count": 9,
   "id": "f280a744",
   "metadata": {},
   "outputs": [],
   "source": [
    "class EmbeddingNetwork(nn.Module):\n",
    "    def __init__(self):\n",
    "        super(EmbeddingNetwork, self).__init__()\n",
    "        # First block\n",
    "        self.conv1 = nn.Conv2d(3, 64, kernel_size=10)  # entrée RGB = 3 canaux\n",
    "        self.pool1 = nn.MaxPool2d(2, stride=2, padding=0)\n",
    "        \n",
    "        # Second block\n",
    "        self.conv2 = nn.Conv2d(64, 128, kernel_size=7)\n",
    "        self.pool2 = nn.MaxPool2d(2, stride=2, padding=0)\n",
    "        \n",
    "        # Third block\n",
    "        self.conv3 = nn.Conv2d(128, 128, kernel_size=4)\n",
    "        self.pool3 = nn.MaxPool2d(2, stride=2, padding=0)\n",
    "        \n",
    "        # Final embedding block\n",
    "        self.conv4 = nn.Conv2d(128, 256, kernel_size=4)\n",
    "        self.flatten = nn.Flatten()\n",
    "        self.fc1 = nn.Linear(256 * 5 * 5, 4096)  # dépend de la taille finale\n",
    "        self.sigmoid = nn.Sigmoid()\n",
    "\n",
    "    def forward(self, x):\n",
    "        x = torch.relu(self.conv1(x))\n",
    "        x = self.pool1(x)\n",
    "        \n",
    "        x = torch.relu(self.conv2(x))\n",
    "        x = self.pool2(x)\n",
    "        \n",
    "        x = torch.relu(self.conv3(x))\n",
    "        x = self.pool3(x)\n",
    "        \n",
    "        x = torch.relu(self.conv4(x))\n",
    "        # print(\"Shape before flattening:\", x.shape)\n",
    "        x = self.flatten(x)\n",
    "        # print(\"Shape after flattening:\", x.shape)\n",
    "        x = self.sigmoid(self.fc1(x))\n",
    "        return x"
   ]
  },
  {
   "cell_type": "code",
   "execution_count": null,
   "id": "fb7a02ce",
   "metadata": {},
   "outputs": [
    {
     "name": "stdout",
     "output_type": "stream",
     "text": [
      "EmbeddingNetwork(\n",
      "  (conv1): Conv2d(3, 64, kernel_size=(10, 10), stride=(1, 1))\n",
      "  (pool1): MaxPool2d(kernel_size=2, stride=2, padding=0, dilation=1, ceil_mode=False)\n",
      "  (conv2): Conv2d(64, 128, kernel_size=(7, 7), stride=(1, 1))\n",
      "  (pool2): MaxPool2d(kernel_size=2, stride=2, padding=0, dilation=1, ceil_mode=False)\n",
      "  (conv3): Conv2d(128, 128, kernel_size=(4, 4), stride=(1, 1))\n",
      "  (pool3): MaxPool2d(kernel_size=2, stride=2, padding=0, dilation=1, ceil_mode=False)\n",
      "  (conv4): Conv2d(128, 256, kernel_size=(4, 4), stride=(1, 1))\n",
      "  (flatten): Flatten(start_dim=1, end_dim=-1)\n",
      "  (fc1): Linear(in_features=6400, out_features=4096, bias=True)\n",
      "  (sigmoid): Sigmoid()\n",
      ")\n",
      "Embedding output shape: torch.Size([1, 4096])\n"
     ]
    }
   ],
   "source": [
    "# Création du modèle\n",
    "embedding = EmbeddingNetwork()\n",
    "print(embedding)\n",
    "\n",
    "# Test rapide pour vérifier les dimensions\n",
    "test_input = torch.randn(1, 3, 100, 100)  # batch=1, RGB, 100x100\n",
    "test_output = embedding(test_input)\n",
    "print(\"Embedding output shape:\", test_output.shape)"
   ]
  },
  {
   "cell_type": "markdown",
   "id": "2103a676",
   "metadata": {},
   "source": [
    "**L1 Distant**"
   ]
  },
  {
   "cell_type": "code",
   "execution_count": 11,
   "id": "690377b4",
   "metadata": {},
   "outputs": [],
   "source": [
    "class L1Distance(nn.Module):\n",
    "    def __init__(self):\n",
    "        super(L1Distance, self).__init__()\n",
    "    \n",
    "    def forward(self, input, valid):\n",
    "        return torch.abs(input - valid)"
   ]
  },
  {
   "cell_type": "code",
   "execution_count": null,
   "id": "b8137610",
   "metadata": {},
   "outputs": [
    {
     "name": "stdout",
     "output_type": "stream",
     "text": [
      "tensor([[1., 2., 1.]])\n"
     ]
    }
   ],
   "source": [
    "# l1 = L1Distance()\n",
    "\n",
    "# emb1 = torch.tensor([[1.0, 2.0, 3.0]])\n",
    "# emb2 = torch.tensor([[2.0, 0.0, 4.0]])\n",
    "# print(l1(emb1, emb2))  # Affiche la distance L1 entre les deux embeddings"
   ]
  },
  {
   "cell_type": "code",
   "execution_count": null,
   "id": "e243749c",
   "metadata": {},
   "outputs": [
    {
     "name": "stdout",
     "output_type": "stream",
     "text": [
      "L1 distance output shape: torch.Size([1, 4096])\n",
      "tensor([[1.3538, 0.0125, 0.8715,  ..., 0.5587, 3.7391, 0.0347]])\n"
     ]
    }
   ],
   "source": [
    "# # Simulons deux embeddings venant du réseau\n",
    "# anchor_embedding = torch.randn(1, 4096)\n",
    "# validation_embedding = torch.randn(1, 4096)\n",
    "\n",
    "# output = l1(anchor_embedding, validation_embedding)\n",
    "# print(\"L1 distance output shape:\", output.shape)\n",
    "# print(output[:5])  # Affiche les 5 premières valeurs"
   ]
  },
  {
   "cell_type": "markdown",
   "id": "a713c1dd",
   "metadata": {},
   "source": [
    "**Siamese Model**"
   ]
  },
  {
   "cell_type": "code",
   "execution_count": null,
   "id": "3d942d99",
   "metadata": {},
   "outputs": [],
   "source": [
    "# def make_siamese_model(embedding, embedding_output_dim):\n",
    "#     \"\"\"\n",
    "#     Crée un modèle Siamese avec un réseau d'embedding et une couche de distance L1.\n",
    "    \n",
    "#     Args:\n",
    "#         embedding: Le modèle d'embedding à utiliser.\n",
    "#         embedding_output_dim: La dimension de sortie de l'embedding.\n",
    "        \n",
    "#     Returns:\n",
    "#         Un modèle Siamese.\n",
    "#     \"\"\"\n",
    "#     class SiameseNetwork(nn.Module):\n",
    "#         def __init__(self):\n",
    "#             super(SiameseNetwork, self).__init__()\n",
    "#             self.embedding = embedding  # Ton modèle embedding déjà défini\n",
    "#             self.l1_dist = L1Distance()\n",
    "#             self.classifier = nn.Linear(embedding_output_dim, 1)  # embedding_output_dim = taille de l'embedding\n",
    "        \n",
    "#         def forward(self, input_image, validation_image):\n",
    "#             inp_embedding = self.embedding(input_image)  # (batch_size, embedding_output_dim)\n",
    "#             val_embedding = self.embedding(validation_image)\n",
    "            \n",
    "#             distances = self.l1_dist(inp_embedding, val_embedding)  # (batch_size, embedding_output_dim)\n",
    "#             logits = self.classifier(distances)  # (batch_size, 1)\n",
    "#             output = torch.sigmoid(logits)\n",
    "#             return output\n",
    "        \n",
    "#     return SiameseNetwork()"
   ]
  },
  {
   "cell_type": "code",
   "execution_count": null,
   "id": "1e9e9b9a",
   "metadata": {},
   "outputs": [],
   "source": [
    "# siamese_model = make_siamese_model(EmbeddingNetwork(), 128)"
   ]
  },
  {
   "cell_type": "code",
   "execution_count": 8,
   "id": "c14dd730",
   "metadata": {},
   "outputs": [],
   "source": [
    "class SiameseNetwork(nn.Module):\n",
    "    def __init__(self, embedding_model):\n",
    "        super(SiameseNetwork, self).__init__()\n",
    "        self.embedding = embedding_model  # Ton modèle d'embedding déjà défini\n",
    "        self.l1_dist = L1Distance()           # La classe qu'on vient de créer\n",
    "        self.classifier = nn.Sequential(\n",
    "            nn.Linear(4096, 1),\n",
    "            nn.Sigmoid()\n",
    "        )\n",
    "\n",
    "    def forward(self, input_img, validation_img):\n",
    "        # Passe les deux images dans le réseau d'embedding\n",
    "        embed1 = self.embedding(input_img)\n",
    "        embed2 = self.embedding(validation_img)\n",
    "\n",
    "        # Calcule la distance L1\n",
    "        distances = self.l1_dist(embed1, embed2)\n",
    "\n",
    "        # Passe la distance dans la couche de classification\n",
    "        return self.classifier(distances)"
   ]
  },
  {
   "cell_type": "code",
   "execution_count": null,
   "id": "45b48765",
   "metadata": {},
   "outputs": [],
   "source": [
    "siamese_model = SiameseNetwork(embedding)"
   ]
  },
  {
   "cell_type": "code",
   "execution_count": null,
   "id": "8e9d494d",
   "metadata": {},
   "outputs": [
    {
     "name": "stdout",
     "output_type": "stream",
     "text": [
      "Siamese model output shape: torch.Size([1, 1])\n",
      "tensor([[0.5009]], grad_fn=<SigmoidBackward0>)\n"
     ]
    }
   ],
   "source": [
    "# # Test rapide\n",
    "# input_img = torch.randn(1, 3, 100, 100)       # Image anchor\n",
    "# validation_img = torch.randn(1, 3, 100, 100)  # Image de comparaison\n",
    "\n",
    "# output = siamese_model(input_img, validation_img)\n",
    "# print(\"Siamese model output shape:\", output.shape)\n",
    "# print(output)  # probabilité entre 0 et 1"
   ]
  },
  {
   "cell_type": "markdown",
   "id": "6c2188d2",
   "metadata": {},
   "source": [
    "**Loss / Optimizer**"
   ]
  },
  {
   "cell_type": "code",
   "execution_count": null,
   "id": "30389ec8",
   "metadata": {},
   "outputs": [],
   "source": [
    "binary_cross_entropy = nn.BCELoss()\n",
    "# binary_cross_entropy = nn.BCEWithLogitsLoss()\n",
    "optimizer = optim.Adam(siamese_model.parameters(), lr=0.0001)"
   ]
  },
  {
   "cell_type": "markdown",
   "id": "ae43f87f",
   "metadata": {},
   "source": [
    "**Reset weights**"
   ]
  },
  {
   "cell_type": "code",
   "execution_count": null,
   "id": "22ba3da6",
   "metadata": {},
   "outputs": [],
   "source": [
    "# def reset_weights(m):\n",
    "#     if hasattr(m, 'reset_parameters'):\n",
    "#         m.reset_parameters()"
   ]
  },
  {
   "cell_type": "markdown",
   "id": "4f2ac8d9",
   "metadata": {},
   "source": [
    "**Checkpoints**"
   ]
  },
  {
   "cell_type": "code",
   "execution_count": null,
   "id": "ef045a56",
   "metadata": {},
   "outputs": [],
   "source": [
    "# checkpoint_dir = 'training_checkpoints'\n",
    "# checkpoint_prefix = os.path.join(checkpoint_dir, \"ckpt.pth\")\n",
    "\n",
    "# os.makedirs(checkpoint_dir, exist_ok=True)\n",
    "\n",
    "# torch.save({\n",
    "#     'model_state_dict': model.state_dict(),\n",
    "#     'optimizer_state_dict': optimizer.state_dict(),\n",
    "# }, checkpoint_prefix)"
   ]
  },
  {
   "cell_type": "markdown",
   "id": "8c05d7e2",
   "metadata": {},
   "source": [
    "**Train step function**"
   ]
  },
  {
   "cell_type": "code",
   "execution_count": null,
   "id": "aeb6dbce",
   "metadata": {},
   "outputs": [
    {
     "name": "stdout",
     "output_type": "stream",
     "text": [
      "torch.float32 0.0 1.0\n"
     ]
    }
   ],
   "source": [
    "# for batch in train_loader:\n",
    "#     print(batch[2].dtype, batch[2].min().item(), batch[2].max().item())\n",
    "#     break"
   ]
  },
  {
   "cell_type": "code",
   "execution_count": null,
   "id": "007dbae9",
   "metadata": {},
   "outputs": [
    {
     "name": "stdout",
     "output_type": "stream",
     "text": [
      "Test batch size: 3\n"
     ]
    },
    {
     "data": {
      "text/plain": [
       "tensor([1., 0., 0., 0., 1., 1., 0., 1., 0., 0., 0., 0., 0., 1., 0., 1.])"
      ]
     },
     "execution_count": 52,
     "metadata": {},
     "output_type": "execute_result"
    }
   ],
   "source": [
    "# test_batch = next(iter(train_loader))\n",
    "# print(f\"Test batch size: {len(test_batch)}\")\n",
    "\n",
    "# X = test_batch[:2]  # Prend les deux premières images du batch\n",
    "# y = test_batch[2]  # Prend les labels du batch\n",
    "# y"
   ]
  },
  {
   "cell_type": "code",
   "execution_count": null,
   "id": "60cac376",
   "metadata": {},
   "outputs": [],
   "source": [
    "def train_step(batch, model, loss_fn=binary_cross_entropy, optimizer=optimizer, device='cuda'):\n",
    "    # Récupérer images et labels du batch\n",
    "    input_image, validation_image, label = batch\n",
    "    # Déplacer les données vers le device (GPU ou CPU)\n",
    "    input_image, validation_image, label = input_image.to(device), validation_image.to(device), label.to(device)\n",
    "    \n",
    "    model.train()\n",
    "    optimizer.zero_grad()\n",
    "    \n",
    "    output = model(input_image, validation_image)\n",
    "    \n",
    "    label = label.float().view(-1, 1)  # Assurez-vous que le label a la bonne forme\n",
    "    loss = loss_fn(output, label)\n",
    "    # print(f\"Loss: {loss.item()}\")\n",
    "    # Backpropagation\n",
    "    loss.backward()\n",
    "    optimizer.step()\n",
    "\n",
    "    return loss.item()"
   ]
  },
  {
   "cell_type": "markdown",
   "id": "22dee49a",
   "metadata": {},
   "source": [
    "**Build Training**"
   ]
  },
  {
   "cell_type": "code",
   "execution_count": 54,
   "id": "241fb587",
   "metadata": {},
   "outputs": [],
   "source": [
    "from sklearn.metrics import precision_score, recall_score\n",
    "from tqdm import tqdm"
   ]
  },
  {
   "cell_type": "code",
   "execution_count": 55,
   "id": "d41c7133",
   "metadata": {},
   "outputs": [],
   "source": [
    "def train(dataloader, model, loss_fn=binary_cross_entropy, optimizer=optimizer, device='cuda', EPOCHS=10, checkpoint_dir='training_checkpoints'):\n",
    "    os.makedirs(checkpoint_dir, exist_ok=True)\n",
    "    best_precision = 0.0  # meilleur score trouvé\n",
    "    \n",
    "    for epoch in range(1, EPOCHS+1):\n",
    "        print(f\"Epoch {epoch}/{EPOCHS}\")\n",
    "        model.train()\n",
    "        total_loss = 0.0\n",
    "        all_labels = []\n",
    "        all_predictions = []\n",
    "        \n",
    "        for batch in tqdm(dataloader, desc=f\"Training Epoch {epoch}\", leave=False):\n",
    "            loss = train_step(batch, model, loss_fn, optimizer, device)\n",
    "            total_loss += loss\n",
    "            \n",
    "            # Récupérer les labels et les prédictions\n",
    "            input_image, validation_image, label = batch\n",
    "            input_image, validation_image = input_image.to(device), validation_image.to(device)\n",
    "            with torch.no_grad():\n",
    "                output = model(input_image, validation_image)\n",
    "                output = torch.round(torch.sigmoid(output)).cpu().numpy()\n",
    "                all_labels.extend(label.cpu().numpy())\n",
    "                all_predictions.extend(output)\n",
    "            \n",
    "        precision = precision_score(all_labels, all_predictions)\n",
    "        recall = recall_score(all_labels, all_predictions)\n",
    "        \n",
    "        print(f\"Loss: {total_loss:.4f}, Precision: {precision:.4f}, Recall: {recall:.4f}\")\n",
    "        \n",
    "        # Sauvegarde seulement si la précision est meilleure\n",
    "        if precision > best_precision:\n",
    "            best_precision = precision\n",
    "            checkpoint_path = os.path.join(checkpoint_dir, \"siamese_best.pth\")\n",
    "            torch.save({\n",
    "                'epoch': epoch,\n",
    "                'model_state_dict': model.state_dict(),\n",
    "                'optimizer_state_dict': optimizer.state_dict(),\n",
    "                'loss': total_loss,\n",
    "                'precision': precision,\n",
    "                'recall': recall\n",
    "            }, checkpoint_path)\n",
    "            print(f\"✅ Nouveau meilleur modèle sauvegardé (Precision: {precision:.4f})\")"
   ]
  },
  {
   "cell_type": "markdown",
   "id": "c0ab94ee",
   "metadata": {},
   "source": [
    "**Train**"
   ]
  },
  {
   "cell_type": "code",
   "execution_count": null,
   "id": "95b4944b",
   "metadata": {},
   "outputs": [
    {
     "name": "stdout",
     "output_type": "stream",
     "text": [
      "Epoch 1/10\n"
     ]
    },
    {
     "name": "stderr",
     "output_type": "stream",
     "text": [
      "                                                                   \r"
     ]
    },
    {
     "name": "stdout",
     "output_type": "stream",
     "text": [
      "Loss: 1.2420, Precision: 0.6133, Recall: 1.0000\n",
      "✅ Nouveau meilleur modèle sauvegardé (Precision: 0.6133)\n",
      "Epoch 2/10\n"
     ]
    },
    {
     "name": "stderr",
     "output_type": "stream",
     "text": [
      "                                                                   \r"
     ]
    },
    {
     "name": "stdout",
     "output_type": "stream",
     "text": [
      "Loss: 0.7996, Precision: 0.7171, Recall: 1.0000\n",
      "✅ Nouveau meilleur modèle sauvegardé (Precision: 0.7171)\n",
      "Epoch 3/10\n"
     ]
    },
    {
     "name": "stderr",
     "output_type": "stream",
     "text": [
      "                                                                   \r"
     ]
    },
    {
     "name": "stdout",
     "output_type": "stream",
     "text": [
      "Loss: 0.1167, Precision: 0.7916, Recall: 1.0000\n",
      "✅ Nouveau meilleur modèle sauvegardé (Precision: 0.7916)\n",
      "Epoch 4/10\n"
     ]
    },
    {
     "name": "stderr",
     "output_type": "stream",
     "text": [
      "                                                                   \r"
     ]
    },
    {
     "name": "stdout",
     "output_type": "stream",
     "text": [
      "Loss: 0.0622, Precision: 0.8291, Recall: 1.0000\n",
      "✅ Nouveau meilleur modèle sauvegardé (Precision: 0.8291)\n",
      "Epoch 5/10\n"
     ]
    },
    {
     "name": "stderr",
     "output_type": "stream",
     "text": [
      "                                                                   \r"
     ]
    },
    {
     "name": "stdout",
     "output_type": "stream",
     "text": [
      "Loss: 0.0443, Precision: 0.8351, Recall: 1.0000\n",
      "✅ Nouveau meilleur modèle sauvegardé (Precision: 0.8351)\n",
      "Epoch 6/10\n"
     ]
    },
    {
     "name": "stderr",
     "output_type": "stream",
     "text": [
      "                                                                   \r"
     ]
    },
    {
     "name": "stdout",
     "output_type": "stream",
     "text": [
      "Loss: 0.0280, Precision: 0.8201, Recall: 1.0000\n",
      "Epoch 7/10\n"
     ]
    },
    {
     "name": "stderr",
     "output_type": "stream",
     "text": [
      "                                                                   \r"
     ]
    },
    {
     "name": "stdout",
     "output_type": "stream",
     "text": [
      "Loss: 0.0208, Precision: 0.8268, Recall: 1.0000\n",
      "Epoch 8/10\n"
     ]
    },
    {
     "name": "stderr",
     "output_type": "stream",
     "text": [
      "                                                                   \r"
     ]
    },
    {
     "name": "stdout",
     "output_type": "stream",
     "text": [
      "Loss: 0.0168, Precision: 0.8109, Recall: 1.0000\n",
      "Epoch 9/10\n"
     ]
    },
    {
     "name": "stderr",
     "output_type": "stream",
     "text": [
      "                                                                   \r"
     ]
    },
    {
     "name": "stdout",
     "output_type": "stream",
     "text": [
      "Loss: 0.0143, Precision: 0.8090, Recall: 1.0000\n",
      "Epoch 10/10\n"
     ]
    },
    {
     "name": "stderr",
     "output_type": "stream",
     "text": [
      "                                                                    "
     ]
    },
    {
     "name": "stdout",
     "output_type": "stream",
     "text": [
      "Loss: 0.0104, Precision: 0.7937, Recall: 1.0000\n"
     ]
    },
    {
     "name": "stderr",
     "output_type": "stream",
     "text": [
      "\r"
     ]
    }
   ],
   "source": [
    "# EPOCHS = 10\n",
    "# device = \"cuda\"\n",
    "# siamese_model = siamese_model.to(device)\n",
    "# train(train_loader, model=siamese_model)"
   ]
  },
  {
   "cell_type": "markdown",
   "id": "f7d26541",
   "metadata": {},
   "source": [
    "**Real time use**"
   ]
  },
  {
   "cell_type": "code",
   "execution_count": 6,
   "id": "77061288",
   "metadata": {},
   "outputs": [],
   "source": [
    "from PIL import Image, ImageTk\n",
    "import tkinter as tk"
   ]
  },
  {
   "cell_type": "code",
   "execution_count": 12,
   "id": "7524dc07",
   "metadata": {},
   "outputs": [
    {
     "data": {
      "text/plain": [
       "SiameseNetwork(\n",
       "  (embedding): EmbeddingNetwork(\n",
       "    (conv1): Conv2d(3, 64, kernel_size=(10, 10), stride=(1, 1))\n",
       "    (pool1): MaxPool2d(kernel_size=2, stride=2, padding=0, dilation=1, ceil_mode=False)\n",
       "    (conv2): Conv2d(64, 128, kernel_size=(7, 7), stride=(1, 1))\n",
       "    (pool2): MaxPool2d(kernel_size=2, stride=2, padding=0, dilation=1, ceil_mode=False)\n",
       "    (conv3): Conv2d(128, 128, kernel_size=(4, 4), stride=(1, 1))\n",
       "    (pool3): MaxPool2d(kernel_size=2, stride=2, padding=0, dilation=1, ceil_mode=False)\n",
       "    (conv4): Conv2d(128, 256, kernel_size=(4, 4), stride=(1, 1))\n",
       "    (flatten): Flatten(start_dim=1, end_dim=-1)\n",
       "    (fc1): Linear(in_features=6400, out_features=4096, bias=True)\n",
       "    (sigmoid): Sigmoid()\n",
       "  )\n",
       "  (l1_dist): L1Distance()\n",
       "  (classifier): Sequential(\n",
       "    (0): Linear(in_features=4096, out_features=1, bias=True)\n",
       "    (1): Sigmoid()\n",
       "  )\n",
       ")"
      ]
     },
     "execution_count": 12,
     "metadata": {},
     "output_type": "execute_result"
    }
   ],
   "source": [
    "device = \"cuda\"\n",
    "siamese_model = SiameseNetwork(embedding).to(device)\n",
    "checkpoint = torch.load(\"training_checkpoints/siamese_best.pth\", map_location=device)\n",
    "siamese_model.load_state_dict(checkpoint['model_state_dict'])\n",
    "siamese_model.eval()"
   ]
  },
  {
   "cell_type": "code",
   "execution_count": null,
   "id": "5576ec31",
   "metadata": {},
   "outputs": [],
   "source": [
    "# Prétraitement image\n",
    "face_cascade = cv2.CascadeClassifier(cv2.data.haarcascades + \"haarcascade_frontalface_default.xml\")\n",
    "\n",
    "def preprocess_frame(frame):\n",
    "    gray = cv2.cvtColor(frame, cv2.COLOR_BGR2GRAY)\n",
    "    faces = face_cascade.detectMultiScale(gray, scaleFactor=1.1, minNeighbors=5, minSize=(100, 100))\n",
    "    \n",
    "    if len(faces) > 0:\n",
    "        faces = sorted(faces, key=lambda f: f[2] * f[3], reverse=True)\n",
    "        (x, y, w, h) = faces[0]\n",
    "        frame = frame[y:y + h, x:x + w]  # Crop face\n",
    "\n",
    "    frame = cv2.cvtColor(frame, cv2.COLOR_BGR2RGB)  # Convert BGR to RGB\n",
    "    img = cv2.resize(frame, (100, 100))  # Resize to match model input\n",
    "    img = img.astype(\"float32\") / 255.0\n",
    "    img = np.transpose(img, (2, 0, 1))  # HWC → CHW\n",
    "    img = torch.tensor(img).unsqueeze(0).to(device)\n",
    "    return img"
   ]
  },
  {
   "cell_type": "code",
   "execution_count": 22,
   "id": "df4dfd30",
   "metadata": {},
   "outputs": [],
   "source": [
    "# Interface Tkinter\n",
    "root = tk.Tk()\n",
    "root.title(\"Reconnaissance Faciale\")\n",
    "\n",
    "# recognition_enabled = False\n",
    "anchor_img = None"
   ]
  },
  {
   "cell_type": "code",
   "execution_count": 23,
   "id": "06ff404a",
   "metadata": {},
   "outputs": [],
   "source": [
    "# Webcam\n",
    "cap = cv2.VideoCapture(0)"
   ]
  },
  {
   "cell_type": "code",
   "execution_count": 24,
   "id": "2a7c42d6",
   "metadata": {},
   "outputs": [],
   "source": [
    "# Label vidéo\n",
    "video_label = tk.Label(root)\n",
    "video_label.pack()"
   ]
  },
  {
   "cell_type": "code",
   "execution_count": null,
   "id": "c6bc6ff0",
   "metadata": {},
   "outputs": [],
   "source": [
    "# # Boutons\n",
    "# def toggle_recognition():\n",
    "#     global recognition_enabled\n",
    "#     recognition_enabled = not recognition_enabled\n",
    "#     btn_recognition.config(text=\"Désactiver reconnaissance\" if recognition_enabled else \"Activer reconnaissance\")\n",
    "\n",
    "# btn_recognition = tk.Button(root, text=\"Activer reconnaissance\", command=toggle_recognition)\n",
    "# btn_recognition.pack()\n"
   ]
  },
  {
   "cell_type": "code",
   "execution_count": 25,
   "id": "b940fbd5",
   "metadata": {},
   "outputs": [],
   "source": [
    "def capture_anchor():\n",
    "    global anchor_img, frame\n",
    "    anchor_img = preprocess_frame(frame)\n",
    "    print(\"📸 Anchor enregistrée\")\n",
    "    \n",
    "btn_anchor = tk.Button(root, text=\"Capturer image référence\", command=capture_anchor)\n",
    "btn_anchor.pack()"
   ]
  },
  {
   "cell_type": "code",
   "execution_count": 26,
   "id": "897762bc",
   "metadata": {},
   "outputs": [],
   "source": [
    "def recognize_once():\n",
    "    global frame, anchor_img\n",
    "    if anchor_img is None:\n",
    "        print(\"⚠️ Aucun anchor enregistré\")\n",
    "        return\n",
    "\n",
    "    # Capture une seule frame courante\n",
    "    ret, snapshot = cap.read()\n",
    "    if not ret:\n",
    "        print(\"⚠️ Impossible de capturer l'image\")\n",
    "        return\n",
    "\n",
    "    # Détection visage (pour enlever le background)\n",
    "    # gray = cv2.cvtColor(snapshot, cv2.COLOR_BGR2GRAY)\n",
    "    # faces = face_cascade.detectMultiScale(gray, scaleFactor=1.1, minNeighbors=5, minSize=(100, 100))\n",
    "    input_img = preprocess_frame(snapshot)\n",
    "\n",
    "    if input_img is None:\n",
    "        print(\"⚠️ Aucun visage détecté\")\n",
    "        return\n",
    "\n",
    "    # Prend le plus grand visage détecté\n",
    "    # faces = sorted(faces, key=lambda f: f[2] * f[3], reverse=True)\n",
    "    # (x, y, w, h) = faces[0]\n",
    "    # cropped_face = snapshot[y:y + h, x:x + w]\n",
    "\n",
    "    # Prétraitement pour modèle\n",
    "    # input_img = preprocess_frame(cropped_face)\n",
    "\n",
    "    # Inférence\n",
    "    with torch.no_grad():\n",
    "        output = siamese_model(anchor_img, input_img)\n",
    "        pred = (output.item() > 0.7)\n",
    "\n",
    "    # Résultat\n",
    "    text = \"Match ✅\" if pred else \"No match ❌\"\n",
    "    print(text)\n",
    "    print(f\"Distance L1 : {output.item()}\")\n",
    "\n",
    "    # Affichage dans l'interface\n",
    "    # color = (0, 255, 0) if pred else (0, 0, 255)\n",
    "    # cv2.rectangle(snapshot, (x, y), (x + w, y + h), color, 2)\n",
    "    # cv2.putText(snapshot, text, (x, y - 10), cv2.FONT_HERSHEY_SIMPLEX, 1, color, 2)\n",
    "\n",
    "    # Convertir pour Tkinter\n",
    "    img_rgb = cv2.cvtColor(snapshot, cv2.COLOR_BGR2RGB)\n",
    "    img_pil = Image.fromarray(img_rgb)\n",
    "    img_tk = ImageTk.PhotoImage(img_pil)\n",
    "    video_label.img_tk = img_tk\n",
    "    video_label.config(image=img_tk)\n",
    "    \n",
    "btn_recognize_once = tk.Button(root, text=\"Vérifier reconnaissance\", command=recognize_once)\n",
    "btn_recognize_once.pack()"
   ]
  },
  {
   "cell_type": "code",
   "execution_count": 27,
   "id": "05847c7b",
   "metadata": {},
   "outputs": [],
   "source": [
    "def update_frame():\n",
    "    global frame\n",
    "    ret, frame = cap.read()\n",
    "    if not ret:\n",
    "        root.after(10, update_frame)\n",
    "        return\n",
    "\n",
    "    display_frame = frame.copy()\n",
    "    gray = cv2.cvtColor(display_frame, cv2.COLOR_BGR2GRAY)\n",
    "    faces = face_cascade.detectMultiScale(gray, scaleFactor=1.1, minNeighbors=5, minSize=(100, 100))\n",
    "    \n",
    "    if len(faces) > 0:\n",
    "        faces = sorted(faces, key=lambda f: f[2] * f[3], reverse=True)\n",
    "        (x, y, w, h) = faces[0]\n",
    "        cv2.rectangle(display_frame, (x, y), (x + w, y + h), (0, 255, 0), 2)\n",
    "\n",
    "    # Si reconnaissance activée\n",
    "    # if recognition_enabled and anchor_img is not None:\n",
    "    #     input_img = preprocess_frame(frame)\n",
    "    #     with torch.no_grad():\n",
    "    #         output = siamese_model(anchor_img, input_img)\n",
    "    #         pred = (output.item() > 0.5)\n",
    "    #     text = \"Match\" if pred else \"No match\"\n",
    "    #     color = (0, 255, 0) if pred else (0, 0, 255)\n",
    "    #     cv2.putText(display_frame, text, (30, 50),\n",
    "    #                 cv2.FONT_HERSHEY_SIMPLEX, 1, color, 2)\n",
    "    img_rgb = cv2.cvtColor(frame, cv2.COLOR_BGR2RGB)\n",
    "    img_pil = Image.fromarray(img_rgb)\n",
    "    img_tk = ImageTk.PhotoImage(img_pil)\n",
    "\n",
    "    video_label.img_tk = img_tk\n",
    "    video_label.config(image=img_tk)\n",
    "\n",
    "    root.after(10, update_frame)"
   ]
  },
  {
   "cell_type": "code",
   "execution_count": 28,
   "id": "efb5ce03",
   "metadata": {},
   "outputs": [
    {
     "name": "stdout",
     "output_type": "stream",
     "text": [
      "📸 Anchor enregistrée\n",
      "📸 Anchor enregistrée\n",
      "📸 Anchor enregistrée\n",
      "Match ✅\n",
      "Distance L1 : 0.9978005290031433\n",
      "No match ❌\n",
      "Distance L1 : 1.223767185365432e-07\n",
      "Match ✅\n",
      "Distance L1 : 0.9678881168365479\n"
     ]
    }
   ],
   "source": [
    "root.after(10, update_frame)\n",
    "root.protocol(\"WM_DELETE_WINDOW\", lambda: (cap.release(), root.destroy()))\n",
    "root.mainloop()\n",
    "# cap.release()\n",
    "# cv2.destroyAllWindows()"
   ]
  }
 ],
 "metadata": {
  "kernelspec": {
   "display_name": "venv_pytorch",
   "language": "python",
   "name": "python3"
  },
  "language_info": {
   "codemirror_mode": {
    "name": "ipython",
    "version": 3
   },
   "file_extension": ".py",
   "mimetype": "text/x-python",
   "name": "python",
   "nbconvert_exporter": "python",
   "pygments_lexer": "ipython3",
   "version": "3.13.5"
  }
 },
 "nbformat": 4,
 "nbformat_minor": 5
}
